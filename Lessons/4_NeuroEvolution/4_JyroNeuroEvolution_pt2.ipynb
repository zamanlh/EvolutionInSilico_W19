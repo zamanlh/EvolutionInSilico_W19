{
 "cells": [
  {
   "cell_type": "markdown",
   "metadata": {},
   "source": [
    "# In this worksheet, we'll start evolving neural network controllers for our robots!"
   ]
  },
  {
   "cell_type": "code",
   "execution_count": 1,
   "metadata": {},
   "outputs": [],
   "source": [
    "from IPython.display import display, clear_output\n",
    "from jyro.simulator import *\n",
    "import random\n",
    "import numpy as np"
   ]
  },
  {
   "cell_type": "markdown",
   "metadata": {},
   "source": [
    "### Just bringing back our `SimpleNeuralNet` class from earlier"
   ]
  },
  {
   "cell_type": "code",
   "execution_count": 2,
   "metadata": {},
   "outputs": [],
   "source": [
    "class SimpleNeuralNet():\n",
    "    #This is our squashing function\n",
    "    #I changed this to the hyperbolic tangent function that\n",
    "    #returns values in (-1, 1)\n",
    "    def activation_function(self, x):\n",
    "        return np.tanh(x)\n",
    "    \n",
    "    #this should look familiar, just a way to create a copy of \n",
    "    #the network without worying about pesky reference \n",
    "    def deepcopy(self):\n",
    "        new_net = SimpleNeuralNet(self.num_inputs, self.num_outputs, self.layer_node_counts)\n",
    "        new_net.layers = [np.copy(layer) for layer in self.layers]\n",
    "        return new_net\n",
    "    \n",
    "    #this is where the neural network does its computation!\n",
    "    def execute(self, input_vector):\n",
    "        # First we need to make sure we're getting the right\n",
    "        # number of inputs into our neural network.\n",
    "        assert len(input_vector) == self.num_inputs ,\\\n",
    "        \"wrong input vector size\"\n",
    "\n",
    "        # create a temporary variable to hold the values that should go\n",
    "        # into the next layer of the network.\n",
    "        # **at the start, this will just be our input**\n",
    "        next_v = input_vector\n",
    "\n",
    "        # iterate through layers, computing the activation\n",
    "        # of the weighted inputs from the previous layer\n",
    "        for layer in self.layers:\n",
    "            # add a bias to each layer [1]\n",
    "            next_v = np.append(next_v, 1)\n",
    "            \n",
    "            # pump the input vector through the matrix multiplication\n",
    "            # and our activation function\n",
    "            next_v = self.activation_function(np.dot(next_v, layer))\n",
    "            \n",
    "        return next_v\n",
    "        \n",
    "    def __init__(self, num_inputs, num_outputs, layer_node_counts=[]):\n",
    "        self.num_inputs = num_inputs\n",
    "        self.layer_node_counts = layer_node_counts\n",
    "        self.num_outputs = num_outputs\n",
    "        self.layers = []\n",
    "        \n",
    "        last_num_neurons = self.num_inputs\n",
    "        for nc in layer_node_counts + [num_outputs]:\n",
    "            # for now, we'll just use random weights in the range [-5,5]\n",
    "            # +1 handles adding a bias node for each layer of nodes\n",
    "            self.layers.append(np.random.uniform(-5, 5, size=(last_num_neurons+1, nc)))\n",
    "            last_num_neurons = nc\n",
    "    "
   ]
  },
  {
   "cell_type": "markdown",
   "metadata": {},
   "source": [
    "## This code is mostly the same, but we're setting up the world a bit differently. Here we are setting up the simulation without all the interactive bits to speed it up."
   ]
  },
  {
   "cell_type": "code",
   "execution_count": 3,
   "metadata": {},
   "outputs": [],
   "source": [
    "class MyPioneer(Pioneer):\n",
    "    def __init__(self, name, x, y, angle):\n",
    "        Pioneer.__init__(self, name, x, y, angle)\n",
    "        self.addDevice(Pioneer16Sonars())\n",
    "        #parameter defines max range in meters\n",
    "        self.addDevice(PioneerFrontLightSensors(3))\n",
    "        self.addDevice(Camera())\n",
    "\n",
    "        \n",
    "robot = MyPioneer(\"Johnny\", 1, 1, 0)\n",
    "sim = Physics()\n",
    "sim.addBox(0, 0, 8, 8, fill=\"backgroundgreen\", wallcolor=\"gray\") #bounding box\n",
    "sim.addLight(7, 7, 1) #paramters are x, y, brightness\n",
    "\n",
    "sim.addRobot(robot)"
   ]
  },
  {
   "cell_type": "markdown",
   "metadata": {},
   "source": [
    "## If we wanted to get a visual of the simulator though, we still can by asking the simulation to draw itself! "
   ]
  },
  {
   "cell_type": "code",
   "execution_count": 4,
   "metadata": {},
   "outputs": [
    {
     "data": {
      "image/svg+xml": [
       "<svg baseProfile=\"full\" height=\"250\" version=\"1.1\" width=\"250\" xmlns=\"http://www.w3.org/2000/svg\" xmlns:ev=\"http://www.w3.org/2001/xml-events\" xmlns:xlink=\"http://www.w3.org/1999/xlink\"><defs /><rect fill=\"#eef3dd\" height=\"250.0\" stroke=\"#bebebe\" stroke-width=\"1\" width=\"250.0\" x=\"0.0\" y=\"0.0\" /><circle cx=\"218.75\" cy=\"31.25\" fill=\"#ffff00\" r=\"7.8125\" stroke=\"#ffff00\" stroke-width=\"1\" /><line fill=\"#800080\" stroke=\"#add8e6\" stroke-width=\"1\" x1=\"25.78125\" x2=\"0.0\" y1=\"215.625\" y2=\"215.625\" /><line fill=\"#800080\" stroke=\"#add8e6\" stroke-width=\"1\" x1=\"26.5625\" x2=\"0.0\" y1=\"213.4375\" y2=\"201.051203125\" /><line fill=\"#800080\" stroke=\"#add8e6\" stroke-width=\"1\" x1=\"27.8125\" x2=\"0.0\" y1=\"212.5\" y2=\"179.35435312500002\" /><line fill=\"#800080\" stroke=\"#add8e6\" stroke-width=\"1\" x1=\"29.6875\" x2=\"0.0\" y1=\"211.71875\" y2=\"100.92349375\" /><line fill=\"#800080\" stroke=\"#add8e6\" stroke-width=\"1\" x1=\"32.8125\" x2=\"89.54236942708201\" y1=\"211.71875\" y2=\"0.0\" /><line fill=\"#800080\" stroke=\"#d3d3d3\" stroke-width=\"1\" x1=\"34.6875\" x2=\"195.38440242163483\" y1=\"212.5\" y2=\"20.988889220255462\" /><line fill=\"#800080\" stroke=\"#add8e6\" stroke-width=\"1\" x1=\"35.9375\" x2=\"250.0\" y1=\"213.4375\" y2=\"113.61850937500002\" /><line fill=\"#800080\" stroke=\"#add8e6\" stroke-width=\"1\" x1=\"36.71875\" x2=\"250.0\" y1=\"215.625\" y2=\"215.625\" /><line fill=\"#800080\" stroke=\"#add8e6\" stroke-width=\"1\" x1=\"36.71875\" x2=\"250.0\" y1=\"221.875\" y2=\"221.875\" /><line fill=\"#800080\" stroke=\"#add8e6\" stroke-width=\"1\" x1=\"35.9375\" x2=\"91.5606462749811\" y1=\"224.0625\" y2=\"250.0\" /><line fill=\"#800080\" stroke=\"#add8e6\" stroke-width=\"1\" x1=\"34.68749999999999\" x2=\"55.66499075396123\" y1=\"225.0\" y2=\"250.0\" /><line fill=\"#800080\" stroke=\"#add8e6\" stroke-width=\"1\" x1=\"32.8125\" x2=\"39.3018943981656\" y1=\"225.78125\" y2=\"250.0\" /><line fill=\"#800080\" stroke=\"#add8e6\" stroke-width=\"1\" x1=\"29.6875\" x2=\"23.198105601834406\" y1=\"225.78125\" y2=\"250.0\" /><line fill=\"#800080\" stroke=\"#add8e6\" stroke-width=\"1\" x1=\"27.8125\" x2=\"6.835009246038779\" y1=\"225.0\" y2=\"250.0\" /><line fill=\"#800080\" stroke=\"#add8e6\" stroke-width=\"1\" x1=\"26.5625\" x2=\"0.0\" y1=\"224.0625\" y2=\"236.448796875\" /><line fill=\"#800080\" stroke=\"#add8e6\" stroke-width=\"1\" x1=\"25.78125\" x2=\"0.0\" y1=\"221.875\" y2=\"221.875\" /><line fill=\"#800080\" stroke=\"#ffa500\" stroke-width=\"1\" x1=\"218.75\" x2=\"25.78125\" y1=\"31.25\" y2=\"211.71875\" /><line fill=\"#800080\" stroke=\"#ffa500\" stroke-width=\"1\" x1=\"218.75\" x2=\"36.71875\" y1=\"31.25\" y2=\"211.71875\" /><line fill=\"#800080\" stroke=\"#a020f0\" stroke-width=\"1\" x1=\"31.25\" x2=\"0.0\" y1=\"218.75\" y2=\"200.707803125\" /><line fill=\"#800080\" stroke=\"#a020f0\" stroke-width=\"1\" x1=\"31.25\" x2=\"250.0\" y1=\"218.75\" y2=\"92.454621875\" /><polygon fill=\"red\" points=\"28.75,211.71875 25.78125,214.0625 25.78125,223.4375 28.75,225.78125 33.75,225.78125 36.71875,223.4375 36.71875,214.0625 33.75,211.71875\" stroke=\"red\" stroke-width=\"1\" /><polygon points=\"-1.5625,-1.5625 0,0 1.5625,-1.5625 0,1.5625\" stroke=\"black\" stroke-width=\"1\" transform=\"translate(31.25,218.75) rotate(180.0)\" /><circle cx=\"25.78125\" cy=\"211.71875\" fill=\"yellow\" r=\"0.78125\" stroke=\"orange\" stroke-width=\"1\" /><circle cx=\"36.71875\" cy=\"211.71875\" fill=\"yellow\" r=\"0.78125\" stroke=\"orange\" stroke-width=\"1\" /><polygon fill=\"black\" points=\"33.125,214.37499999999997 33.125,216.87499999999997 29.375,216.87499999999997 29.375,214.37499999999997\" stroke=\"black\" stroke-width=\"1\" /></svg>"
      ],
      "text/plain": [
       "<jyro.simulator.canvas.Canvas at 0x108b75048>"
      ]
     },
     "execution_count": 4,
     "metadata": {},
     "output_type": "execute_result"
    }
   ],
   "source": [
    "canvas = Canvas((250, 250))\n",
    "sim.draw(canvas)"
   ]
  },
  {
   "cell_type": "markdown",
   "metadata": {},
   "source": [
    "## Let's run a simple walking brain on our robot for 100 timesteps."
   ]
  },
  {
   "cell_type": "code",
   "execution_count": 5,
   "metadata": {},
   "outputs": [],
   "source": [
    "def walking_brain(robot):\n",
    "    robot.move(1, 0)\n",
    "    \n",
    "robot.brain = walking_brain\n",
    "\n",
    "for i in range(100):\n",
    "    sim.step(run_brain=True)"
   ]
  },
  {
   "cell_type": "markdown",
   "metadata": {},
   "source": [
    "### Notice nothing happened in our image above. That's because its a *still shot* of the simulator when we called it. We can call it again to get a picture of what the simulated world looks like now, though. "
   ]
  },
  {
   "cell_type": "code",
   "execution_count": 6,
   "metadata": {},
   "outputs": [
    {
     "data": {
      "image/svg+xml": [
       "<svg baseProfile=\"full\" height=\"250\" version=\"1.1\" width=\"250\" xmlns=\"http://www.w3.org/2000/svg\" xmlns:ev=\"http://www.w3.org/2001/xml-events\" xmlns:xlink=\"http://www.w3.org/1999/xlink\"><defs /><rect fill=\"#eef3dd\" height=\"250.0\" stroke=\"#bebebe\" stroke-width=\"1\" width=\"250.0\" x=\"0.0\" y=\"0.0\" /><circle cx=\"218.75\" cy=\"31.25\" fill=\"#ffff00\" r=\"7.8125\" stroke=\"#ffff00\" stroke-width=\"1\" /><line fill=\"#800080\" stroke=\"#add8e6\" stroke-width=\"1\" x1=\"25.78125\" x2=\"0.0\" y1=\"6.250000000000338\" y2=\"6.250000000000005\" /><line fill=\"#800080\" stroke=\"#add8e6\" stroke-width=\"1\" x1=\"26.5625\" x2=\"17.85043840151044\" y1=\"4.0625000000003295\" y2=\"0.0\" /><line fill=\"#800080\" stroke=\"#add8e6\" stroke-width=\"1\" x1=\"27.8125\" x2=\"25.19031356397833\" y1=\"3.125000000000322\" y2=\"0.0\" /><line fill=\"#800080\" stroke=\"#add8e6\" stroke-width=\"1\" x1=\"29.6875\" x2=\"29.05949435520798\" y1=\"2.3437500000003384\" y2=\"0.0\" /><line fill=\"#800080\" stroke=\"#add8e6\" stroke-width=\"1\" x1=\"32.8125\" x2=\"33.44050564479201\" y1=\"2.3437500000003384\" y2=\"0.0\" /><line fill=\"#800080\" stroke=\"#add8e6\" stroke-width=\"1\" x1=\"34.6875\" x2=\"37.309686436021686\" y1=\"3.125000000000322\" y2=\"0.0\" /><line fill=\"#800080\" stroke=\"#add8e6\" stroke-width=\"1\" x1=\"35.9375\" x2=\"44.64956159848959\" y1=\"4.0625000000003295\" y2=\"0.0\" /><line fill=\"#800080\" stroke=\"#add8e6\" stroke-width=\"1\" x1=\"36.71875\" x2=\"250.0\" y1=\"6.250000000000338\" y2=\"6.250000000000005\" /><line fill=\"#800080\" stroke=\"#add8e6\" stroke-width=\"1\" x1=\"36.71875\" x2=\"250.0\" y1=\"12.500000000000316\" y2=\"12.50000000000001\" /><line fill=\"#800080\" stroke=\"#add8e6\" stroke-width=\"1\" x1=\"35.9375\" x2=\"250.0\" y1=\"14.687500000000325\" y2=\"114.50649062500001\" /><line fill=\"#800080\" stroke=\"#d3d3d3\" stroke-width=\"1\" x1=\"34.68749999999999\" x2=\"195.3844024216348\" y1=\"15.625000000000334\" y2=\"207.13611077974485\" /><line fill=\"#800080\" stroke=\"#add8e6\" stroke-width=\"1\" x1=\"32.8125\" x2=\"95.40375818045558\" y1=\"16.406250000000316\" y2=\"250.0\" /><line fill=\"#800080\" stroke=\"#add8e6\" stroke-width=\"1\" x1=\"29.6875\" x2=\"0.0\" y1=\"16.406250000000316\" y2=\"127.20150624999998\" /><line fill=\"#800080\" stroke=\"#add8e6\" stroke-width=\"1\" x1=\"27.8125\" x2=\"0.0\" y1=\"15.625000000000334\" y2=\"48.77064687499999\" /><line fill=\"#800080\" stroke=\"#add8e6\" stroke-width=\"1\" x1=\"26.5625\" x2=\"0.0\" y1=\"14.687500000000325\" y2=\"27.073796875\" /><line fill=\"#800080\" stroke=\"#add8e6\" stroke-width=\"1\" x1=\"25.78125\" x2=\"0.0\" y1=\"12.500000000000316\" y2=\"12.50000000000001\" /><line fill=\"#800080\" stroke=\"#ffa500\" stroke-width=\"1\" x1=\"218.75\" x2=\"25.78125\" y1=\"31.25\" y2=\"2.3437500000003384\" /><line fill=\"#800080\" stroke=\"#ffa500\" stroke-width=\"1\" x1=\"218.75\" x2=\"36.71875\" y1=\"31.25\" y2=\"2.3437500000003384\" /><line fill=\"#800080\" stroke=\"#a020f0\" stroke-width=\"1\" x1=\"31.25\" x2=\"15.012024545583513\" y1=\"9.375000000000327\" y2=\"0.0\" /><line fill=\"#800080\" stroke=\"#a020f0\" stroke-width=\"1\" x1=\"31.25\" x2=\"47.487975454416485\" y1=\"9.375000000000327\" y2=\"0.0\" /><polygon fill=\"white\" points=\"28.75,2.3437500000003384 25.78125,4.687500000000316 25.78125,14.06250000000034 28.75,16.406250000000316 33.75,16.406250000000316 36.71875,14.06250000000034 36.71875,4.687500000000316 33.75,2.3437500000003384\" stroke=\"black\" stroke-width=\"1\" /><polygon points=\"-1.5625,-1.5625 0,0 1.5625,-1.5625 0,1.5625\" stroke=\"black\" stroke-width=\"1\" transform=\"translate(31.25,9.375000000000327) rotate(180.0)\" /><circle cx=\"25.78125\" cy=\"2.3437500000003384\" fill=\"yellow\" r=\"0.78125\" stroke=\"orange\" stroke-width=\"1\" /><circle cx=\"36.71875\" cy=\"2.3437500000003384\" fill=\"yellow\" r=\"0.78125\" stroke=\"orange\" stroke-width=\"1\" /><polygon fill=\"black\" points=\"33.125,5.0000000000003375 33.125,7.500000000000339 29.375,7.500000000000339 29.375,5.0000000000003375\" stroke=\"black\" stroke-width=\"1\" /></svg>"
      ],
      "text/plain": [
       "<jyro.simulator.canvas.Canvas at 0x108b91da0>"
      ]
     },
     "execution_count": 6,
     "metadata": {},
     "output_type": "execute_result"
    }
   ],
   "source": [
    "canvas = Canvas((250, 250))\n",
    "sim.draw(canvas)"
   ]
  },
  {
   "cell_type": "markdown",
   "metadata": {},
   "source": [
    "# We're going to define a weird helper function that returns a function. That sounds complicated, but it's pretty easy once you look at it. \n",
    "\n",
    "### We need this because the Jyro simulator expects the brain of a robot to be a function. But, we want to use neural networks to control that function, so we need a way of plugging our neural networks into the robot brain function easily. "
   ]
  },
  {
   "cell_type": "code",
   "execution_count": 7,
   "metadata": {},
   "outputs": [],
   "source": [
    "def network_to_brain(simple_net):\n",
    "    \n",
    "    #Define the brain function for jyro\n",
    "    def neural_brain(a_robot):\n",
    "        sonar_sensors = a_robot[\"sonar\"].getData()\n",
    "        light_sensors = a_robot[\"light\"].getData()\n",
    "        \n",
    "        #combine the sonar and light inputs\n",
    "        combined_input = sonar_sensors + light_sensors\n",
    "\n",
    "        network = simple_net\n",
    "\n",
    "        #run the neural network with the combined input values\n",
    "        output = network.execute(combined_input)\n",
    "        \n",
    "        #use the output of the network to move the robot\n",
    "        a_robot.move(output[0], output[1])\n",
    "\n",
    "    return neural_brain"
   ]
  },
  {
   "cell_type": "markdown",
   "metadata": {},
   "source": [
    "### Let's reset our robot and try running a random neural brain now!"
   ]
  },
  {
   "cell_type": "code",
   "execution_count": 8,
   "metadata": {},
   "outputs": [
    {
     "data": {
      "image/svg+xml": [
       "<svg baseProfile=\"full\" height=\"250\" version=\"1.1\" width=\"250\" xmlns=\"http://www.w3.org/2000/svg\" xmlns:ev=\"http://www.w3.org/2001/xml-events\" xmlns:xlink=\"http://www.w3.org/1999/xlink\"><defs /><rect fill=\"#eef3dd\" height=\"250.0\" stroke=\"#bebebe\" stroke-width=\"1\" width=\"250.0\" x=\"0.0\" y=\"0.0\" /><circle cx=\"218.75\" cy=\"31.25\" fill=\"#ffff00\" r=\"7.8125\" stroke=\"#ffff00\" stroke-width=\"1\" /><line fill=\"#800080\" stroke=\"#add8e6\" stroke-width=\"1\" x1=\"25.78125\" x2=\"0.0\" y1=\"215.625\" y2=\"215.625\" /><line fill=\"#800080\" stroke=\"#add8e6\" stroke-width=\"1\" x1=\"26.5625\" x2=\"0.0\" y1=\"213.4375\" y2=\"201.051203125\" /><line fill=\"#800080\" stroke=\"#add8e6\" stroke-width=\"1\" x1=\"27.8125\" x2=\"0.0\" y1=\"212.5\" y2=\"179.35435312500002\" /><line fill=\"#800080\" stroke=\"#add8e6\" stroke-width=\"1\" x1=\"29.6875\" x2=\"0.0\" y1=\"211.71875\" y2=\"100.92349375\" /><line fill=\"#800080\" stroke=\"#add8e6\" stroke-width=\"1\" x1=\"32.8125\" x2=\"89.54236942708201\" y1=\"211.71875\" y2=\"0.0\" /><line fill=\"#800080\" stroke=\"#d3d3d3\" stroke-width=\"1\" x1=\"34.6875\" x2=\"195.38440242163483\" y1=\"212.5\" y2=\"20.988889220255462\" /><line fill=\"#800080\" stroke=\"#add8e6\" stroke-width=\"1\" x1=\"35.9375\" x2=\"250.0\" y1=\"213.4375\" y2=\"113.61850937500002\" /><line fill=\"#800080\" stroke=\"#add8e6\" stroke-width=\"1\" x1=\"36.71875\" x2=\"250.0\" y1=\"215.625\" y2=\"215.625\" /><line fill=\"#800080\" stroke=\"#add8e6\" stroke-width=\"1\" x1=\"36.71875\" x2=\"250.0\" y1=\"221.875\" y2=\"221.875\" /><line fill=\"#800080\" stroke=\"#add8e6\" stroke-width=\"1\" x1=\"35.9375\" x2=\"91.5606462749811\" y1=\"224.0625\" y2=\"250.0\" /><line fill=\"#800080\" stroke=\"#add8e6\" stroke-width=\"1\" x1=\"34.68749999999999\" x2=\"55.66499075396123\" y1=\"225.0\" y2=\"250.0\" /><line fill=\"#800080\" stroke=\"#add8e6\" stroke-width=\"1\" x1=\"32.8125\" x2=\"39.3018943981656\" y1=\"225.78125\" y2=\"250.0\" /><line fill=\"#800080\" stroke=\"#add8e6\" stroke-width=\"1\" x1=\"29.6875\" x2=\"23.198105601834406\" y1=\"225.78125\" y2=\"250.0\" /><line fill=\"#800080\" stroke=\"#add8e6\" stroke-width=\"1\" x1=\"27.8125\" x2=\"6.835009246038779\" y1=\"225.0\" y2=\"250.0\" /><line fill=\"#800080\" stroke=\"#add8e6\" stroke-width=\"1\" x1=\"26.5625\" x2=\"0.0\" y1=\"224.0625\" y2=\"236.448796875\" /><line fill=\"#800080\" stroke=\"#add8e6\" stroke-width=\"1\" x1=\"25.78125\" x2=\"0.0\" y1=\"221.875\" y2=\"221.875\" /><line fill=\"#800080\" stroke=\"#ffa500\" stroke-width=\"1\" x1=\"218.75\" x2=\"25.78125\" y1=\"31.25\" y2=\"211.71875\" /><line fill=\"#800080\" stroke=\"#ffa500\" stroke-width=\"1\" x1=\"218.75\" x2=\"36.71875\" y1=\"31.25\" y2=\"211.71875\" /><line fill=\"#800080\" stroke=\"#a020f0\" stroke-width=\"1\" x1=\"31.25\" x2=\"0.0\" y1=\"218.75\" y2=\"200.707803125\" /><line fill=\"#800080\" stroke=\"#a020f0\" stroke-width=\"1\" x1=\"31.25\" x2=\"250.0\" y1=\"218.75\" y2=\"92.454621875\" /><polygon fill=\"red\" points=\"28.75,211.71875 25.78125,214.0625 25.78125,223.4375 28.75,225.78125 33.75,225.78125 36.71875,223.4375 36.71875,214.0625 33.75,211.71875\" stroke=\"red\" stroke-width=\"1\" /><polygon points=\"-1.5625,-1.5625 0,0 1.5625,-1.5625 0,1.5625\" stroke=\"black\" stroke-width=\"1\" transform=\"translate(31.25,218.75) rotate(180.0)\" /><circle cx=\"25.78125\" cy=\"211.71875\" fill=\"yellow\" r=\"0.78125\" stroke=\"orange\" stroke-width=\"1\" /><circle cx=\"36.71875\" cy=\"211.71875\" fill=\"yellow\" r=\"0.78125\" stroke=\"orange\" stroke-width=\"1\" /><polygon fill=\"black\" points=\"33.125,214.37499999999997 33.125,216.87499999999997 29.375,216.87499999999997 29.375,214.37499999999997\" stroke=\"black\" stroke-width=\"1\" /></svg>"
      ],
      "text/plain": [
       "<jyro.simulator.canvas.Canvas at 0x108b75e10>"
      ]
     },
     "execution_count": 8,
     "metadata": {},
     "output_type": "execute_result"
    }
   ],
   "source": [
    "robot.setPose(1,1,0)\n",
    "robot.reset()\n",
    "\n",
    "#make a neural net with 18 inputs, and 2 outputs, and no hidden neurons for now.\n",
    "neural_net = SimpleNeuralNet(18,2, []) \n",
    "\n",
    "#turn our neural network into a robot brain, and assign it\n",
    "robot.brain = network_to_brain(neural_net)\n",
    "\n",
    "\n",
    "canvas = Canvas((250, 250))\n",
    "sim.draw(canvas)"
   ]
  },
  {
   "cell_type": "markdown",
   "metadata": {},
   "source": [
    "## Even though we're not in the visual simulator, we can watch the simulation by drawing each time step as we run the simulation.\n",
    "\n",
    "#### This is not something you should do while you're trying to evaluate a bunch of brains though!"
   ]
  },
  {
   "cell_type": "code",
   "execution_count": 9,
   "metadata": {},
   "outputs": [
    {
     "data": {
      "image/svg+xml": [
       "<svg baseProfile=\"full\" height=\"250\" version=\"1.1\" width=\"250\" xmlns=\"http://www.w3.org/2000/svg\" xmlns:ev=\"http://www.w3.org/2001/xml-events\" xmlns:xlink=\"http://www.w3.org/1999/xlink\"><defs /><rect fill=\"#eef3dd\" height=\"250.0\" stroke=\"#bebebe\" stroke-width=\"1\" width=\"250.0\" x=\"0.0\" y=\"0.0\" /><circle cx=\"218.75\" cy=\"31.25\" fill=\"#ffff00\" r=\"7.8125\" stroke=\"#ffff00\" stroke-width=\"1\" /><line fill=\"#800080\" stroke=\"#add8e6\" stroke-width=\"1\" x1=\"30.7417846747\" x2=\"11.3763803333\" y1=\"239.412629037\" y2=\"250.0\" /><line fill=\"#800080\" stroke=\"#add8e6\" stroke-width=\"1\" x1=\"30.3779225259\" x2=\"0.0\" y1=\"237.118481668\" y2=\"239.064896875\" /><line fill=\"#800080\" stroke=\"#add8e6\" stroke-width=\"1\" x1=\"31.0249866787\" x2=\"0.0\" y1=\"235.696260085\" y2=\"223.578984375\" /><line fill=\"#800080\" stroke=\"#add8e6\" stroke-width=\"1\" x1=\"32.2953984179\" x2=\"0.0\" y1=\"234.111321419\" y2=\"200.276090625\" /><line fill=\"#800080\" stroke=\"#add8e6\" stroke-width=\"1\" x1=\"35.0373669625\" x2=\"0.0\" y1=\"232.612243869\" y2=\"88.5129875\" /><line fill=\"#800080\" stroke=\"#add8e6\" stroke-width=\"1\" x1=\"37.0573174767\" x2=\"83.6379824762\" y1=\"232.398289475\" y2=\"0.0\" /><line fill=\"#800080\" stroke=\"#d3d3d3\" stroke-width=\"1\" x1=\"38.6038281595\" x2=\"186.726219787\" y1=\"232.621249019\" y2=\"31.2267180636\" /><line fill=\"#800080\" stroke=\"#add8e6\" stroke-width=\"1\" x1=\"40.3386745806\" x2=\"250.0\" y1=\"234.165857612\" y2=\"119.540696875\" /><line fill=\"#800080\" stroke=\"#add8e6\" stroke-width=\"1\" x1=\"43.3368296805\" x2=\"250.0\" y1=\"239.649794701\" y2=\"126.663771875\" /><line fill=\"#800080\" stroke=\"#add8e6\" stroke-width=\"1\" x1=\"43.7006918293\" x2=\"250.0\" y1=\"241.94394207\" y2=\"228.72564375\" /><line fill=\"#800080\" stroke=\"#add8e6\" stroke-width=\"1\" x1=\"43.0536276765\" x2=\"60.0388619692\" y1=\"243.366163653\" y2=\"250.0\" /><line fill=\"#800080\" stroke=\"#add8e6\" stroke-width=\"1\" x1=\"41.7832159373\" x2=\"46.602337919\" y1=\"244.951102319\" y2=\"250.0\" /><line fill=\"#800080\" stroke=\"#add8e6\" stroke-width=\"1\" x1=\"39.0412473928\" x2=\"39.9043762153\" y1=\"246.450179869\" y2=\"250.0\" /><line fill=\"#800080\" stroke=\"#add8e6\" stroke-width=\"1\" x1=\"37.0212968785\" x2=\"36.3526736938\" y1=\"246.664134263\" y2=\"250.0\" /><line fill=\"#800080\" stroke=\"#add8e6\" stroke-width=\"1\" x1=\"35.4747861957\" x2=\"32.8573306025\" y1=\"246.44117472\" y2=\"250.0\" /><line fill=\"#800080\" stroke=\"#add8e6\" stroke-width=\"1\" x1=\"33.7399397746\" x2=\"24.405230286\" y1=\"244.896566126\" y2=\"250.0\" /><line fill=\"#800080\" stroke=\"#ffa500\" stroke-width=\"1\" x1=\"218.75\" x2=\"28.8679377373\" y1=\"31.25\" y2=\"235.985168356\" /><line fill=\"#800080\" stroke=\"#ffa500\" stroke-width=\"1\" x1=\"218.75\" x2=\"38.4648276431\" y1=\"31.25\" y2=\"230.738396932\" /><line fill=\"#800080\" stroke=\"#a020f0\" stroke-width=\"1\" x1=\"37.0393071776\" x2=\"0.0\" y1=\"239.531211869\" y2=\"238.6687625\" /><line fill=\"#800080\" stroke=\"#a020f0\" stroke-width=\"1\" x1=\"37.0393071776\" x2=\"182.870609741\" y1=\"239.531211869\" y2=\"0.0\" /><polygon fill=\"white\" points=\"31.4728078546,234.561044684 29.9922458997,238.041644765 34.4894785496,246.267550398 38.2186568294,246.899903134 42.6058065007,244.501379054 44.0863684555,241.020778974 39.5891358056,232.79487334 35.8599575258,232.162520604\" stroke=\"black\" stroke-width=\"1\" /><polygon points=\"-1.5625,-1.5625 0,0 1.5625,-1.5625 0,1.5625\" stroke=\"black\" stroke-width=\"1\" transform=\"translate(37.0393071776,239.531211869) rotate(151.333875142)\" /><circle cx=\"28.8679377373\" cy=\"235.985168356\" fill=\"yellow\" r=\"0.78125\" stroke=\"orange\" stroke-width=\"1\" /><circle cx=\"38.4648276431\" cy=\"230.738396932\" fill=\"yellow\" r=\"0.78125\" stroke=\"orange\" stroke-width=\"1\" /><polygon fill=\"black\" points=\"36.5857797344,234.793009377 37.7850417744,236.986584213 34.4946795209,238.785477273 33.295417481,236.591902437\" stroke=\"black\" stroke-width=\"1\" /></svg>"
      ],
      "text/plain": [
       "<jyro.simulator.canvas.Canvas at 0x108b75e10>"
      ]
     },
     "metadata": {},
     "output_type": "display_data"
    }
   ],
   "source": [
    "for i in range(50):\n",
    "    #run the simulation for one step\n",
    "    sim.step(run_brain=True)\n",
    "    \n",
    "    #draw the output, overwriting the last\n",
    "    sim.draw(canvas)\n",
    "    clear_output(wait=True)\n",
    "    display(canvas)\n",
    "    \n",
    "    #pause for enough time to enjoy it\n",
    "    time.sleep(.085)"
   ]
  },
  {
   "cell_type": "markdown",
   "metadata": {},
   "source": [
    "## I'm bringing in some helper functions we wrote in previous notebooks. \n",
    "\n",
    "## `tournament_selection` expects a list of individuals (in our case, neural networks) and a list of their fitness values. \n",
    "I'm passing in a fitness list instead of evaluating individuals every time we encounter them because evaluation is much slower in this environment. \n",
    "\n",
    "## `mutate_network` expects a network, and optionally the probability of mutating an edge weight (`mutation_rate`) and the effect size of the mutations (`mutation_effect_size`)\n",
    "This function tries to be speedy with mutations, by calculating how many mutations should occur, and then picking the ones to mutate randomly from the neurons. "
   ]
  },
  {
   "cell_type": "code",
   "execution_count": 10,
   "metadata": {},
   "outputs": [],
   "source": [
    "def tournament_selection(population, fitnesses, tournament_size=3):\n",
    "    sample_pop_idxs = np.random.choice(range(len(population)), size=tournament_size)\n",
    "    tourny_winner_idx = np.argmax(np.array(fitnesses)[sample_pop_idxs])\n",
    "    winner_pop_idx = sample_pop_idxs[tourny_winner_idx]\n",
    "\n",
    "    return population[winner_pop_idx]\n",
    "    \n",
    "def mutate_network(simple_net, mutation_rate=1E-3, mutation_effect_size=2):\n",
    "    for layer_to_mut in simple_net.layers:\n",
    "        dims = layer_to_mut.shape\n",
    "        num_mutations = np.random.binomial(dims[0]*dims[1], mutation_rate)\n",
    "        for i in range(num_mutations):\n",
    "            rand_i = np.random.randint(0, dims[0])\n",
    "            rand_j = np.random.randint(0, dims[1])\n",
    "            layer_to_mut[rand_i, rand_j] += np.random.normal(scale=mutation_effect_size)\n"
   ]
  },
  {
   "cell_type": "markdown",
   "metadata": {},
   "source": [
    "# Now we have to figure out a way of evaluating our brains.\n",
    "#### We'll stick the network into the brain of the robot, and run it in the simulation (without visualizing it so it goes fast). \n",
    "\n",
    "# But, what should we reward?\n",
    "#### In this simple fitness function, I'm just counting up how far the robot moved during it's trial and calling that it's fitness. "
   ]
  },
  {
   "cell_type": "code",
   "execution_count": 11,
   "metadata": {},
   "outputs": [],
   "source": [
    "def measure_neuralnet_fitness(simple_net, iterations=20):\n",
    "    robot.brain = network_to_brain(simple_net)\n",
    "    distance_moved = 0\n",
    "    \n",
    "    #reset the robot's position\n",
    "    robot.setPose(1, 1, 0)\n",
    "    robot.reset()\n",
    "    \n",
    "    #iterate through the simulation\n",
    "    for i in range(iterations):        \n",
    "        #but if the robot's stuck, end early!\n",
    "        if robot.stall:\n",
    "            break\n",
    "            \n",
    "        #move the robot\n",
    "        cur_pos = robot.getPose()\n",
    "        sim.step(run_brain=True)\n",
    "        next_pos = robot.getPose()\n",
    "        \n",
    "        #and keep track of how far it moved\n",
    "        distance_moved += np.linalg.norm(np.array(cur_pos[0:2]) - np.array(next_pos[0:2]))\n",
    "        \n",
    "    return distance_moved"
   ]
  },
  {
   "cell_type": "markdown",
   "metadata": {},
   "source": [
    "# So, now we can measure fitness, let's evolve some robot brains! \n",
    "## We'll start off small, because this is a slow simulation. We'll use a population of 20 robots, and let them evolve them for 10 genrations.\n",
    "\n",
    "## We'll also only use 50 timesteps of the simulation for each evaluation. "
   ]
  },
  {
   "cell_type": "code",
   "execution_count": 12,
   "metadata": {},
   "outputs": [
    {
     "data": {
      "text/plain": [
       "9"
      ]
     },
     "metadata": {},
     "output_type": "display_data"
    },
    {
     "data": {
      "text/plain": [
       "4.9861574017084633"
      ]
     },
     "metadata": {},
     "output_type": "display_data"
    }
   ],
   "source": [
    "pop_size = 20\n",
    "generations = 10\n",
    "\n",
    "#build our random population of neural networks\n",
    "population = [SimpleNeuralNet(18,2,[5]) for _ in range(pop_size)]\n",
    "evo_fitnesses = []\n",
    "\n",
    "for i in range(generations):\n",
    "    #evaluate the fitnesses using 50 timesteps\n",
    "    fitnesses = [measure_neuralnet_fitness(n, iterations=50) for n in population]\n",
    "    \n",
    "    #keep track of the mean pop fitnesses\n",
    "    evo_fitnesses.append(np.mean(fitnesses))\n",
    "    \n",
    "    #print the generation and the mean fitness we just stuck on the\n",
    "    #evo_fitnesses list\n",
    "    clear_output(wait=True)\n",
    "    display(i, evo_fitnesses[-1])\n",
    "    \n",
    "    #do tournament selection\n",
    "    next_pop = [tournament_selection(population, fitnesses).deepcopy() for _ in range(pop_size)]\n",
    "    \n",
    "    #and mutate the new networks\n",
    "    for net in next_pop:\n",
    "        mutate_network(net, mutation_rate=0.01)\n",
    "    \n",
    "    population = next_pop"
   ]
  },
  {
   "cell_type": "code",
   "execution_count": 15,
   "metadata": {},
   "outputs": [
    {
     "data": {
      "image/svg+xml": [
       "<svg baseProfile=\"full\" height=\"250\" version=\"1.1\" width=\"250\" xmlns=\"http://www.w3.org/2000/svg\" xmlns:ev=\"http://www.w3.org/2001/xml-events\" xmlns:xlink=\"http://www.w3.org/1999/xlink\"><defs /><rect fill=\"#eef3dd\" height=\"250.0\" stroke=\"#bebebe\" stroke-width=\"1\" width=\"250.0\" x=\"0.0\" y=\"0.0\" /><circle cx=\"218.75\" cy=\"31.25\" fill=\"#ffff00\" r=\"7.8125\" stroke=\"#ffff00\" stroke-width=\"1\" /><line fill=\"#800080\" stroke=\"#add8e6\" stroke-width=\"1\" x1=\"159.93034479\" x2=\"109.899059806\" y1=\"203.171464315\" y2=\"0.0\" /><line fill=\"#800080\" stroke=\"#add8e6\" stroke-width=\"1\" x1=\"162.241195171\" x2=\"202.391710491\" y1=\"203.407002698\" y2=\"0.0\" /><line fill=\"#800080\" stroke=\"#add8e6\" stroke-width=\"1\" x1=\"163.450386573\" x2=\"250.0\" y1=\"204.39657958\" y2=\"85.994484375\" /><line fill=\"#800080\" stroke=\"#add8e6\" stroke-width=\"1\" x1=\"164.657303137\" x2=\"250.0\" y1=\"206.030387698\" y2=\"159.0470125\" /><line fill=\"#800080\" stroke=\"#add8e6\" stroke-width=\"1\" x1=\"165.404517123\" x2=\"250.0\" y1=\"209.06474039\" y2=\"210.786646875\" /><line fill=\"#800080\" stroke=\"#add8e6\" stroke-width=\"1\" x1=\"165.094257341\" x2=\"244.324475089\" y1=\"211.072155502\" y2=\"250.0\" /><line fill=\"#800080\" stroke=\"#add8e6\" stroke-width=\"1\" x1=\"164.482837128\" x2=\"194.662092739\" y1=\"212.510060775\" y2=\"250.0\" /><line fill=\"#800080\" stroke=\"#add8e6\" stroke-width=\"1\" x1=\"162.54559374\" x2=\"171.461942688\" y1=\"213.791698738\" y2=\"250.0\" /><line fill=\"#800080\" stroke=\"#add8e6\" stroke-width=\"1\" x1=\"156.476888356\" x2=\"165.025231701\" y1=\"215.286126709\" y2=\"250.0\" /><line fill=\"#800080\" stroke=\"#add8e6\" stroke-width=\"1\" x1=\"154.166037975\" x2=\"147.267371902\" y1=\"215.050588326\" y2=\"250.0\" /><line fill=\"#800080\" stroke=\"#add8e6\" stroke-width=\"1\" x1=\"152.956846573\" x2=\"126.686150249\" y1=\"214.061011445\" y2=\"250.0\" /><line fill=\"#800080\" stroke=\"#add8e6\" stroke-width=\"1\" x1=\"151.749930009\" x2=\"83.5010233395\" y1=\"212.427203326\" y2=\"250.0\" /><line fill=\"#800080\" stroke=\"#add8e6\" stroke-width=\"1\" x1=\"151.002716023\" x2=\"0.0\" y1=\"209.392850634\" y2=\"206.31925\" /><line fill=\"#800080\" stroke=\"#add8e6\" stroke-width=\"1\" x1=\"151.312975804\" x2=\"0.0\" y1=\"207.385435522\" y2=\"133.04148125\" /><line fill=\"#800080\" stroke=\"#add8e6\" stroke-width=\"1\" x1=\"151.924396018\" x2=\"0.0\" y1=\"205.94753025\" y2=\"17.22065\" /><line fill=\"#800080\" stroke=\"#add8e6\" stroke-width=\"1\" x1=\"153.861639406\" x2=\"103.462351127\" y1=\"204.665892287\" y2=\"0.0\" /><line fill=\"#800080\" stroke=\"#ffa500\" stroke-width=\"1\" x1=\"218.75\" x2=\"163.723285655\" y1=\"31.25\" y2=\"202.237446833\" /><line fill=\"#800080\" stroke=\"#ffa500\" stroke-width=\"1\" x1=\"218.75\" x2=\"166.338534605\" y1=\"31.25\" y2=\"212.857681255\" /><line fill=\"#800080\" stroke=\"#a020f0\" stroke-width=\"1\" x1=\"158.203616573\" x2=\"218.855870471\" y1=\"209.228795512\" y2=\"0.0\" /><line fill=\"#800080\" stroke=\"#a020f0\" stroke-width=\"1\" x1=\"158.203616573\" x2=\"197.348161778\" y1=\"209.228795512\" y2=\"250.0\" /><polygon fill=\"red\" points=\"164.433138941,205.120081891 161.447521136,202.797857323 152.34446306,205.03949928 150.778551827,208.482544826 151.974094204,213.337509134 154.95971201,215.659733702 164.062770086,213.418091745 165.628681318,209.975046198\" stroke=\"red\" stroke-width=\"1\" /><polygon points=\"-1.5625,-1.5625 0,0 1.5625,-1.5625 0,1.5625\" stroke=\"black\" stroke-width=\"1\" transform=\"translate(158.203616573,209.228795512) rotate(-103.833927845)\" /><circle cx=\"163.723285655\" cy=\"202.237446833\" fill=\"yellow\" r=\"0.78125\" stroke=\"orange\" stroke-width=\"1\" /><circle cx=\"166.338534605\" cy=\"212.857681255\" fill=\"yellow\" r=\"0.78125\" stroke=\"orange\" stroke-width=\"1\" /><polygon fill=\"black\" points=\"162.900038733,210.003307547 160.472556579,210.601078736 159.575899797,206.959855506 162.00338195,206.362084317\" stroke=\"black\" stroke-width=\"1\" /></svg>"
      ],
      "text/plain": [
       "<jyro.simulator.canvas.Canvas at 0x108b75e10>"
      ]
     },
     "metadata": {},
     "output_type": "display_data"
    }
   ],
   "source": [
    "#let's visualize the first individual in the population\n",
    "#Note there is no reason to expect this is the best individual!\n",
    "robot.brain = network_to_brain(population[10])\n",
    "robot.setPose(1,1,0)\n",
    "\n",
    "for i in range(50):\n",
    "    sim.step(run_brain=True)\n",
    "    sim.draw(canvas)\n",
    "    clear_output(wait=True)\n",
    "    display(canvas)\n",
    "    time.sleep(.085)"
   ]
  },
  {
   "cell_type": "markdown",
   "metadata": {},
   "source": [
    "# 1. Change the visualization code above to visualize the *best* solution in the population. Hint: `np.argmax` is a function worth keeping in your back pocket at all times. "
   ]
  },
  {
   "cell_type": "code",
   "execution_count": null,
   "metadata": {},
   "outputs": [],
   "source": []
  },
  {
   "cell_type": "markdown",
   "metadata": {},
   "source": [
    "# 2. It seems like fitness is saturating. Why do you think that is? What could you do to \"fix\" this?"
   ]
  },
  {
   "cell_type": "code",
   "execution_count": null,
   "metadata": {},
   "outputs": [],
   "source": []
  },
  {
   "cell_type": "markdown",
   "metadata": {},
   "source": [
    "# 3.  After fixing this saturation problem, see if you can evolve robots that navigate to the light source! \n",
    "## To do this, you will need to change the way fitness is evaluated"
   ]
  },
  {
   "cell_type": "code",
   "execution_count": null,
   "metadata": {},
   "outputs": [],
   "source": [
    "# CHANGE THIS FUNCTION\n",
    "def measure_neuralnet_fitness(simple_net, iterations=20):\n",
    "    robot.brain = network_to_brain(simple_net)\n",
    "    distance_moved = 0\n",
    "    \n",
    "    #reset the robot's position\n",
    "    robot.setPose(1, 1, 0)\n",
    "    robot.reset()\n",
    "    \n",
    "    #iterate through the simulation\n",
    "    for i in range(iterations):        \n",
    "        #but if the robot's stuck, end early!\n",
    "        if robot.stall:\n",
    "            break\n",
    "            \n",
    "        #move the robot\n",
    "        cur_pos = robot.getPose()\n",
    "        sim.step(run_brain=True)\n",
    "        next_pos = robot.getPose()\n",
    "        \n",
    "        #and keep track of how far it moved\n",
    "        distance_moved += np.linalg.norm(np.array(cur_pos[0:2]) - np.array(next_pos[0:2]))\n",
    "        \n",
    "    return distance_moved"
   ]
  }
 ],
 "metadata": {
  "kernelspec": {
   "display_name": "Python 3",
   "language": "python",
   "name": "python3"
  },
  "language_info": {
   "codemirror_mode": {
    "name": "ipython",
    "version": 3
   },
   "file_extension": ".py",
   "mimetype": "text/x-python",
   "name": "python",
   "nbconvert_exporter": "python",
   "pygments_lexer": "ipython3",
   "version": "3.6.7"
  }
 },
 "nbformat": 4,
 "nbformat_minor": 2
}
