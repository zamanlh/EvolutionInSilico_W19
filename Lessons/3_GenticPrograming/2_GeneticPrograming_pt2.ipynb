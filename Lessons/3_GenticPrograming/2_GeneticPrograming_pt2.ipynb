{
 "cells": [
  {
   "cell_type": "markdown",
   "metadata": {},
   "source": [
    "# Genetic Programing 2: Evaluation and Mutation"
   ]
  },
  {
   "cell_type": "markdown",
   "metadata": {},
   "source": [
    "### This is the code from the last notebook, just combined into a single Jupyter cell"
   ]
  },
  {
   "cell_type": "code",
   "execution_count": 1,
   "metadata": {
    "collapsed": true
   },
   "outputs": [],
   "source": [
    "import numpy as np\n",
    "from matplotlib import pyplot\n",
    "import random\n",
    "\n",
    "class GPNode:\n",
    "    def __init__(self, node_type=None):\n",
    "        self.parent = None\n",
    "        self.node_type = node_type\n",
    "        self.children = []\n",
    "        self.depth = 0\n",
    "        \n",
    "    def add_child(self, child_node):\n",
    "        child_node.depth = self.depth+1\n",
    "        self.children.append(child_node)\n",
    "        child_node.parent = self\n",
    "    \n",
    "    \n",
    "class GPConstNode(GPNode):\n",
    "    def __init__(self, value=None):\n",
    "        super().__init__(node_type=\"Const\")\n",
    "        self.const_value = value\n",
    "    \n",
    "    def evaluate(self, input_state):\n",
    "        return self.const_value\n",
    "        \n",
    "    def pretty_print(self, indents=0):\n",
    "        print('  '*indents + str(self.const_value) \n",
    "              + ' : ' + str(self.depth))\n",
    "        \n",
    "    def deepcopy(self):\n",
    "        new_node = GPConstNode(value=self.const_value)\n",
    "        new_node.depth = self.depth;\n",
    "        return new_node\n",
    "        \n",
    "        \n",
    "class GPVariableNode(GPNode):\n",
    "    def __init__(self, variable_name=None):\n",
    "        super().__init__(node_type=\"Variable\")\n",
    "        self.variable_name = variable_name\n",
    "    \n",
    "    def evaluate(self, input_state):\n",
    "        return input_state[self.variable_name]\n",
    "    \n",
    "    def pretty_print(self, indents=0):\n",
    "        print('  '*indents + str(self.variable_name)\n",
    "              + ' : ' + str(self.depth))\n",
    "        \n",
    "    def deepcopy(self):\n",
    "        new_node = GPVariableNode(variable_name = self.variable_name)\n",
    "        new_node.depth = self.depth\n",
    "        return new_node\n",
    "        \n",
    "class GPFunctionNode(GPNode):\n",
    "    def __init__(self, arg_count, func_name=None, gp_function=None):\n",
    "        super().__init__(node_type=\"Function\")\n",
    "        self.argument_count = arg_count\n",
    "        self.gp_function = gp_function\n",
    "        self.function_name = func_name\n",
    "        \n",
    "    def evaluate(self, input_state): \n",
    "        assert self.argument_count == len(self.children), \\\n",
    "        'Number of child nodes must match argument count'\n",
    "\n",
    "        child_results = [c.evaluate(input_state) for c in self.children]\n",
    "        return self.gp_function(*child_results)\n",
    "\n",
    "    def pretty_print(self, indents=0):\n",
    "        print('  '*indents + str(self.function_name) \n",
    "              + ' : ' + str(self.depth))\n",
    "        \n",
    "        for child in self.children:\n",
    "            child.pretty_print(indents+1)\n",
    "        \n",
    "    def deepcopy(self):\n",
    "        new_node = GPFunctionNode(self.argument_count, \n",
    "                                   self.function_name, \n",
    "                                   self.gp_function)\n",
    "        new_node.depth = self.depth\n",
    "        \n",
    "        for child in self.children:\n",
    "            new_node.add_child(child.deepcopy())\n",
    "        \n",
    "        return new_node\n"
   ]
  },
  {
   "cell_type": "markdown",
   "metadata": {},
   "source": [
    "# Here we're defining an individual organism"
   ]
  },
  {
   "cell_type": "code",
   "execution_count": 2,
   "metadata": {
    "collapsed": true
   },
   "outputs": [],
   "source": [
    "class GPIndividual:\n",
    "    # This is the beef of the individual code. We're growing random \n",
    "    # trees with a bit of extra sauce. \n",
    "    # We've defined a prob_terminal value that determines how \n",
    "    # likely it is that we select a terminal when choosing a random GP node. \n",
    "    # We're also limiting the depth of the trees we grow, because this is \n",
    "    # Python after all. \n",
    "    def grow_random(self, cur_node=None, cur_depth=0):\n",
    "        if (random.random() < self.prob_terminal \n",
    "            or cur_depth == self.max_genotype_depth-1):\n",
    "            new_node = random.choice(self.terminal_set).deepcopy()\n",
    "            new_node.parent = cur_node\n",
    "            new_node.depth = cur_depth\n",
    "        else:\n",
    "            new_node = random.choice(self.function_set).deepcopy()\n",
    "            new_node.depth = cur_depth\n",
    "            new_node.parent = cur_node\n",
    "            for i in range(new_node.argument_count):\n",
    "                new_node.add_child(self.grow_random(cur_node=new_node, \n",
    "                                                    cur_depth=cur_depth+1))\n",
    "        return new_node\n",
    "    \n",
    "    \n",
    "    # prob_terminal and max_depth have default parameters but you \n",
    "    # can use them to control how big the trees can get and how\n",
    "    # likely you are to pick function/terminal nodes when growing\n",
    "    # and mutating trees. \n",
    "    def __init__(self, function_set, terminal_set, \n",
    "                 prob_terminal=0.2, max_depth=5):\n",
    "        self.max_genotype_depth = max_depth\n",
    "        self.fitness = None\n",
    "        self.function_set = function_set\n",
    "        self.terminal_set = terminal_set\n",
    "        self.prob_terminal = prob_terminal\n",
    "        \n",
    "        self.genotype = self.grow_random()\n",
    "        \n",
    "        \n",
    "    def pretty_print(self):\n",
    "        self.genotype.pretty_print()\n",
    "        \n",
    "        \n",
    "    def deepcopy(self):\n",
    "        new_individual = GPIndividual(self.function_set, \n",
    "                                      self.terminal_set, \n",
    "                                      self.prob_terminal, \n",
    "                                      self.max_genotype_depth)\n",
    "        new_individual.genotype = self.genotype.deepcopy()\n",
    "        return new_individual\n",
    "    \n",
    "    \n",
    "    # This function just visits each node in the genome, growing\n",
    "    # the list of nodes as it encounters children.\n",
    "    def visit_genotype_nodes(self, cur_node=None):\n",
    "        if cur_node == None: \n",
    "            cur_node = self.genotype\n",
    "            \n",
    "        node_list = [cur_node]\n",
    "        visitor_index = 0\n",
    "        \n",
    "        while visitor_index < len(node_list):\n",
    "            if len(node_list[visitor_index].children) > 0:\n",
    "                node_list.extend(node_list[visitor_index].children)\n",
    "            visitor_index += 1\n",
    "            \n",
    "        return node_list\n",
    "        \n",
    "    \n",
    "    def evaluate(self, input_state):\n",
    "        #evaluate the genotype\n",
    "        return self.genotype.evaluate(input_state)\n",
    "        \n",
    "        \n",
    "    def mutate(self):\n",
    "        # get a list of nodes...\n",
    "        genotype_nodes = self.visit_genotype_nodes()\n",
    "        # and pick one! \n",
    "        random_node = random.choice(genotype_nodes)\n",
    "        \n",
    "        if random_node.parent == None:\n",
    "            #We've picked the root, so just grow a whole new genotype\n",
    "            self.genotype = self.grow_random()\n",
    "        else:\n",
    "            #generate a new subtree using the random node's parent\n",
    "            #as the parent for this subtree\n",
    "            new_node = self.grow_random(random_node.parent, random_node.depth)\n",
    "            #remove old node, add new node to parent's list of children\n",
    "            random_node.parent.children.remove(random_node)\n",
    "            random_node.parent.add_child(new_node)\n",
    "            "
   ]
  },
  {
   "cell_type": "markdown",
   "metadata": {},
   "source": [
    "## To build an individual, we need a set of function nodes and a set of terminal nodes. Let's start simple with the ones we worked on last class. \n",
    "Remember that the **`lambda`** keyword in this code is telling python that we want to create a function, but we don't really care what it's called. "
   ]
  },
  {
   "cell_type": "code",
   "execution_count": 3,
   "metadata": {
    "collapsed": true
   },
   "outputs": [],
   "source": [
    "gp_add = GPFunctionNode(arg_count=2, func_name=\"Add\", gp_function=lambda x, y: x+y)\n",
    "gp_sub = GPFunctionNode(arg_count=2, func_name=\"Sub\", gp_function=lambda x, y: x-y)\n",
    "\n",
    "gp_const1 = GPConstNode(42)\n",
    "gp_const2 = GPConstNode(3.14)\n",
    "gp_var1 = GPVariableNode(variable_name='x')\n",
    "\n",
    "\n",
    "gp_func_set = [gp_add, gp_sub]\n",
    "gp_term_set = [gp_const1, gp_const2, gp_var1]"
   ]
  },
  {
   "cell_type": "markdown",
   "metadata": {},
   "source": [
    "### Now that we have a funciton set and a terminal set, we can build an individual."
   ]
  },
  {
   "cell_type": "code",
   "execution_count": 5,
   "metadata": {},
   "outputs": [
    {
     "name": "stdout",
     "output_type": "stream",
     "text": [
      "Sub : 0\n",
      "  Sub : 1\n",
      "    Sub : 2\n",
      "      Sub : 3\n",
      "        x : 4\n",
      "        x : 4\n",
      "      Sub : 3\n",
      "        x : 4\n",
      "        42 : 4\n",
      "    x : 2\n",
      "  Sub : 1\n",
      "    Sub : 2\n",
      "      Add : 3\n",
      "        42 : 4\n",
      "        3.14 : 4\n",
      "      Sub : 3\n",
      "        42 : 4\n",
      "        3.14 : 4\n",
      "    Add : 2\n",
      "      Add : 3\n",
      "        3.14 : 4\n",
      "        42 : 4\n",
      "      Add : 3\n",
      "        3.14 : 4\n",
      "        x : 4\n"
     ]
    }
   ],
   "source": [
    "gp_ind = GPIndividual(function_set=gp_func_set, terminal_set=gp_term_set)\n",
    "gp_ind.pretty_print()"
   ]
  },
  {
   "cell_type": "markdown",
   "metadata": {},
   "source": [
    "### And we can evaluate it our newly grown random individual, remembering to pass in a state value for x!"
   ]
  },
  {
   "cell_type": "code",
   "execution_count": 6,
   "metadata": {},
   "outputs": [
    {
     "data": {
      "text/plain": [
       "81.5"
      ]
     },
     "execution_count": 6,
     "metadata": {},
     "output_type": "execute_result"
    }
   ],
   "source": [
    "gp_ind.evaluate({'x':2.5})"
   ]
  },
  {
   "cell_type": "markdown",
   "metadata": {},
   "source": [
    "# Now we will build a class that holds a whole population of individuals, and can evaluate them against some fitness function we choose, and runs an evolutionary simulation like we're so good at now \n",
    "\n",
    "### `update_fitness(fitness_function)`\n",
    "This function calls a passed in function that we haven't defined yet (**fitness_function**) and calls it on each individual in the population. It takes the output of that fitness_function and stores it in the individual's fitness variable (e.g., gp_ind.fitness).\n",
    "\n",
    "### `do_timestep(fitness_function, selection_function, mutation_prob)`\n",
    "This function uses the **fitness_function** to update each individual's fitness value, and then calls the **selection_function**, with the full population of individuals as a parameter, to pick an organism to reproduce. It calls this function **pop_size** number of times to fill up the population for the next generation. Each individual has some chance of mutating, which is what the **mutation_prob** is parameterizing. "
   ]
  },
  {
   "cell_type": "code",
   "execution_count": 20,
   "metadata": {
    "collapsed": true
   },
   "outputs": [],
   "source": [
    "class GPPopulation:\n",
    "    def __init__(self, pop_size, function_set, terminal_set, max_depth, prob_terminal):\n",
    "        self.pop_size = pop_size\n",
    "        self.terminal_set = terminal_set\n",
    "        self.function_set = function_set\n",
    "        self.max_depth = max_depth\n",
    "        self.prob_terminal = prob_terminal\n",
    "        \n",
    "        self.population = [GPIndividual(self.function_set, \n",
    "                                        self.terminal_set,\n",
    "                                        self.prob_terminal, \n",
    "                                        self.max_depth) \n",
    "                           for _ in range(self.pop_size)]\n",
    "        \n",
    "        \n",
    "    def update_fitnesses(self, fitness_function):\n",
    "        fitnesses = []\n",
    "        for individual in self.population:\n",
    "            individual.fitness = fitness_function(individual)\n",
    "            fitnesses.append(individual.fitness)\n",
    "            \n",
    "        return fitnesses\n",
    "    \n",
    "    \n",
    "    def do_timestep(self, fitness_function, selection_function, mutation_prob):\n",
    "        fitness_list = self.update_fitnesses(fitness_function)\n",
    "        selected_individuals = [selection_function(self.population) \n",
    "                                for _ in range(self.pop_size)]\n",
    "        \n",
    "        for individual_idx in range(len(selected_individuals)):\n",
    "            individual = selected_individuals[individual_idx].deepcopy()\n",
    "            \n",
    "            if random.random() < mutation_prob:\n",
    "                individual.mutate()\n",
    "            \n",
    "            selected_individuals[individual_idx] = individual\n",
    "        \n",
    "        self.population = selected_individuals\n",
    "        \n",
    "        return fitness_list\n",
    "        "
   ]
  },
  {
   "cell_type": "markdown",
   "metadata": {
    "collapsed": true
   },
   "source": [
    "## In order for this code to work, you need to implement a `fitness_function` that evaluates an GPIndividual and returns a fitness value. You'll also need to implement a `selection_function` that is passed the population of individuals (where each individual now has a fitness value assigned to it), and returns a single individual that gets to take a spot in the next generation."
   ]
  },
  {
   "cell_type": "markdown",
   "metadata": {},
   "source": [
    "# 1. Write a `fitness_function` that evaluates the expression tree. A good place to start is defining the fitness as just the value the tree evaluates to (though make sure fitness is positive!).  "
   ]
  },
  {
   "cell_type": "code",
   "execution_count": 21,
   "metadata": {
    "collapsed": true
   },
   "outputs": [],
   "source": [
    "def my_fitness_function(gp_individual):\n",
    "    #IMPLEMENT THIS\n",
    "    \n",
    "    return 1.0"
   ]
  },
  {
   "cell_type": "markdown",
   "metadata": {},
   "source": [
    "# 2. Write a `selection_function` that implements tournament selection. Try a tournament of size 5 for now."
   ]
  },
  {
   "cell_type": "code",
   "execution_count": 22,
   "metadata": {
    "collapsed": true
   },
   "outputs": [],
   "source": [
    "def my_selection_function(gp_population):\n",
    "    #IMPLEMENT THIS\n",
    "    \n",
    "    return random.choice(gp_population)"
   ]
  },
  {
   "cell_type": "markdown",
   "metadata": {},
   "source": [
    "#### We can create our population now"
   ]
  },
  {
   "cell_type": "code",
   "execution_count": 23,
   "metadata": {
    "collapsed": true
   },
   "outputs": [],
   "source": [
    "gp_pop = GPPopulation(pop_size=100, \n",
    "                      function_set=gp_func_set, \n",
    "                      terminal_set=gp_term_set,\n",
    "                      max_depth=6,\n",
    "                      prob_terminal=0.2)\n"
   ]
  },
  {
   "cell_type": "markdown",
   "metadata": {},
   "source": [
    "### And when you have implemeneted your fitness function and selection functions, you should be able to run this cell multiple times and see the population change. The `do_timestep` function returns a list of the fitnesses of the individuals in the population. You can use that to keep track of the mean fitness, and plot it, for example. "
   ]
  },
  {
   "cell_type": "code",
   "execution_count": 25,
   "metadata": {},
   "outputs": [
    {
     "data": {
      "text/plain": [
       "[1.0,\n",
       " 1.0,\n",
       " 1.0,\n",
       " 1.0,\n",
       " 1.0,\n",
       " 1.0,\n",
       " 1.0,\n",
       " 1.0,\n",
       " 1.0,\n",
       " 1.0,\n",
       " 1.0,\n",
       " 1.0,\n",
       " 1.0,\n",
       " 1.0,\n",
       " 1.0,\n",
       " 1.0,\n",
       " 1.0,\n",
       " 1.0,\n",
       " 1.0,\n",
       " 1.0,\n",
       " 1.0,\n",
       " 1.0,\n",
       " 1.0,\n",
       " 1.0,\n",
       " 1.0,\n",
       " 1.0,\n",
       " 1.0,\n",
       " 1.0,\n",
       " 1.0,\n",
       " 1.0,\n",
       " 1.0,\n",
       " 1.0,\n",
       " 1.0,\n",
       " 1.0,\n",
       " 1.0,\n",
       " 1.0,\n",
       " 1.0,\n",
       " 1.0,\n",
       " 1.0,\n",
       " 1.0,\n",
       " 1.0,\n",
       " 1.0,\n",
       " 1.0,\n",
       " 1.0,\n",
       " 1.0,\n",
       " 1.0,\n",
       " 1.0,\n",
       " 1.0,\n",
       " 1.0,\n",
       " 1.0,\n",
       " 1.0,\n",
       " 1.0,\n",
       " 1.0,\n",
       " 1.0,\n",
       " 1.0,\n",
       " 1.0,\n",
       " 1.0,\n",
       " 1.0,\n",
       " 1.0,\n",
       " 1.0,\n",
       " 1.0,\n",
       " 1.0,\n",
       " 1.0,\n",
       " 1.0,\n",
       " 1.0,\n",
       " 1.0,\n",
       " 1.0,\n",
       " 1.0,\n",
       " 1.0,\n",
       " 1.0,\n",
       " 1.0,\n",
       " 1.0,\n",
       " 1.0,\n",
       " 1.0,\n",
       " 1.0,\n",
       " 1.0,\n",
       " 1.0,\n",
       " 1.0,\n",
       " 1.0,\n",
       " 1.0,\n",
       " 1.0,\n",
       " 1.0,\n",
       " 1.0,\n",
       " 1.0,\n",
       " 1.0,\n",
       " 1.0,\n",
       " 1.0,\n",
       " 1.0,\n",
       " 1.0,\n",
       " 1.0,\n",
       " 1.0,\n",
       " 1.0,\n",
       " 1.0,\n",
       " 1.0,\n",
       " 1.0,\n",
       " 1.0,\n",
       " 1.0,\n",
       " 1.0,\n",
       " 1.0,\n",
       " 1.0]"
      ]
     },
     "execution_count": 25,
     "metadata": {},
     "output_type": "execute_result"
    }
   ],
   "source": [
    "gp_pop.do_timestep(fitness_function=my_fitness_function, \n",
    "                   selection_function=my_selection_function,\n",
    "                   mutation_prob=0.1)\n"
   ]
  },
  {
   "cell_type": "markdown",
   "metadata": {},
   "source": [
    "# 3. Write a loop to iterate the `do_timestep` call for a number of generations, and plot the mean fitness values."
   ]
  },
  {
   "cell_type": "code",
   "execution_count": null,
   "metadata": {
    "collapsed": true
   },
   "outputs": [],
   "source": []
  },
  {
   "cell_type": "markdown",
   "metadata": {},
   "source": [
    "# 4. Write a more interesting fitness function, perhaps give the genetic program something as a goal that is too hard for it's current function nodes -- like sin(x). "
   ]
  },
  {
   "cell_type": "code",
   "execution_count": null,
   "metadata": {
    "collapsed": true
   },
   "outputs": [],
   "source": []
  },
  {
   "cell_type": "markdown",
   "metadata": {},
   "source": [
    "# 5. Add in some function nodes that might make for more fun solutions to #4, but don't give it the answer (e.g., don't add a `sin` or `cos` function node!)."
   ]
  },
  {
   "cell_type": "code",
   "execution_count": null,
   "metadata": {
    "collapsed": true
   },
   "outputs": [],
   "source": []
  }
 ],
 "metadata": {
  "kernelspec": {
   "display_name": "Python 3",
   "language": "python",
   "name": "python3"
  },
  "language_info": {
   "codemirror_mode": {
    "name": "ipython",
    "version": 3
   },
   "file_extension": ".py",
   "mimetype": "text/x-python",
   "name": "python",
   "nbconvert_exporter": "python",
   "pygments_lexer": "ipython3",
   "version": "3.6.3"
  }
 },
 "nbformat": 4,
 "nbformat_minor": 2
}
