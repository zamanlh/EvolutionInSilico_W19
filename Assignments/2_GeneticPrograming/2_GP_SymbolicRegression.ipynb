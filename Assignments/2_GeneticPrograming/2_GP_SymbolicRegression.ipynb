{
 "cells": [
  {
   "cell_type": "markdown",
   "metadata": {},
   "source": [
    "# GP Homework: Symbolic Regression."
   ]
  },
  {
   "cell_type": "markdown",
   "metadata": {},
   "source": [
    "### Goals\n",
    "In this homework notebook, the goal is to evolve a genetic program that finds, or at least approximates well, an unknown underlying function. I'll give you some 3D data that has some noise added, and you should evolve a genetic program that evaluates an X and Y value to a Z output, and thus evolves better and better approximations over time! \n"
   ]
  },
  {
   "cell_type": "code",
   "execution_count": 1,
   "metadata": {},
   "outputs": [
    {
     "name": "stdout",
     "output_type": "stream",
     "text": [
      "[[-10.         -10.           1.33941017]\n",
      " [-10.          -9.7979798    1.21291815]\n",
      " [-10.          -9.5959596    0.93887979]\n",
      " ..., \n",
      " [ 10.           9.5959596   -0.70368809]\n",
      " [ 10.           9.7979798   -0.62849835]\n",
      " [ 10.          10.          -0.65843452]]\n"
     ]
    }
   ],
   "source": [
    "import numpy as np\n",
    "import random\n",
    "import csv\n",
    "\n",
    "\n",
    "#Use numpy to load all the data into a matrix.\n",
    "#We have to skip the first row, since it is a header that just names\n",
    "#each column 'x, y and z'\n",
    "data_matrix = np.loadtxt('gp_symbolic_regression.csv', skiprows=1, delimiter=',')\n",
    "print(data_matrix)"
   ]
  },
  {
   "cell_type": "markdown",
   "metadata": {},
   "source": [
    "## The data\n",
    "I've loaded in the generated data into a numpy matrix. The first column holds the X values, the second holds the Y values, and the third has the Z (output) values. \n",
    "\n",
    "The goal of the genetic program you're evolving is to approximate the underlying function that this data was generated from. You should probably create X and Y `variable_node`s and assign fitness based on how close your genetic program evaluates to the loaded in Z values.\n",
    "\n",
    "### Let's look at how we can slice up this matrix\n",
    "Using numpy indexing, we can pull out a single column as an array. The `:` in the expression just means \"grab everything\". Normal numpy indexing would look something like `data_matrix[x,y]` which would mean grab the value at the x row, and y column. So, writing `data_matrix[:,0]` would read as grab all the values in the 0th column. "
   ]
  },
  {
   "cell_type": "code",
   "execution_count": 2,
   "metadata": {},
   "outputs": [
    {
     "data": {
      "text/plain": [
       "array([-10., -10., -10., ...,  10.,  10.,  10.])"
      ]
     },
     "execution_count": 2,
     "metadata": {},
     "output_type": "execute_result"
    }
   ],
   "source": [
    "#X Values\n",
    "data_matrix[:,0]"
   ]
  },
  {
   "cell_type": "code",
   "execution_count": 3,
   "metadata": {},
   "outputs": [
    {
     "data": {
      "text/plain": [
       "array([-10.       ,  -9.7979798,  -9.5959596, ...,   9.5959596,\n",
       "         9.7979798,  10.       ])"
      ]
     },
     "execution_count": 3,
     "metadata": {},
     "output_type": "execute_result"
    }
   ],
   "source": [
    "#Y Values\n",
    "data_matrix[:,1]"
   ]
  },
  {
   "cell_type": "code",
   "execution_count": 4,
   "metadata": {},
   "outputs": [
    {
     "data": {
      "text/plain": [
       "array([ 1.33941017,  1.21291815,  0.93887979, ..., -0.70368809,\n",
       "       -0.62849835, -0.65843452])"
      ]
     },
     "execution_count": 4,
     "metadata": {},
     "output_type": "execute_result"
    }
   ],
   "source": [
    "#Z Values\n",
    "data_matrix[:,2]"
   ]
  },
  {
   "cell_type": "markdown",
   "metadata": {},
   "source": [
    "## Let's look at the data in a 3D plot. \n",
    "If you didn't install Python with the Anaconda package you might need to do a little additional work here, but let me know if you have any issues.\n",
    "\n",
    "There are other ways of plotting 3D data, and it might be fun to go down a plotting rabbit hole if you were so inclined! "
   ]
  },
  {
   "cell_type": "code",
   "execution_count": 5,
   "metadata": {},
   "outputs": [
    {
     "data": {
      "text/plain": [
       "<matplotlib.figure.Figure at 0x1113b1518>"
      ]
     },
     "metadata": {},
     "output_type": "display_data"
    }
   ],
   "source": [
    "import matplotlib.pyplot as plt\n",
    "from mpl_toolkits.mplot3d import axes3d\n",
    "    \n",
    "fig = plt.figure()\n",
    "ax = fig.add_subplot(1, 1, 1, projection=\"3d\")\n",
    "#ax = fig.gca(projection='3d')\n",
    "\n",
    "for row in data_matrix:\n",
    "    #We'll add a point for each data point in the matrix\n",
    "    #alpha tells the points to be 20% visible (80% transparent)\n",
    "    #s is short for size, and we want small since there are so many points!\n",
    "    ax.scatter(xs=row[0],ys=row[1],zs=row[2], alpha=0.2, color=\"blue\", s=2)\n",
    "plt.show()"
   ]
  },
  {
   "cell_type": "markdown",
   "metadata": {},
   "source": [
    "## Now let's get on to evolving approximations!\n",
    "<br>\n",
    "<br>\n",
    "\n",
    "# This is the code you've seen before in the GP worksheets. \n",
    "You shouldn't need to change any of this, but you might want to implement smarter mutation functions. That part of the code begins at Line 164."
   ]
  },
  {
   "cell_type": "code",
   "execution_count": 6,
   "metadata": {},
   "outputs": [],
   "source": [
    "import gym\n",
    "from gym import wrappers\n",
    "import numpy as np\n",
    "from matplotlib import pyplot\n",
    "import random\n",
    "\n",
    "class GPNode:\n",
    "    def __init__(self, node_type=None):\n",
    "        self.parent = None\n",
    "        self.node_type = node_type\n",
    "        self.children = []\n",
    "        self.depth = 0\n",
    "        \n",
    "    def add_child(self, child_node):\n",
    "        child_node.depth = self.depth+1\n",
    "        self.children.append(child_node)\n",
    "        child_node.parent = self\n",
    "    \n",
    "    \n",
    "class GPConstNode(GPNode):\n",
    "    def __init__(self, value=None):\n",
    "        super().__init__(node_type=\"Const\")\n",
    "        self.const_value = value\n",
    "    \n",
    "    def evaluate(self, input_state):\n",
    "        return self.const_value\n",
    "        \n",
    "    def pretty_print(self, indents=0):\n",
    "        print('  '*indents + str(self.const_value) \n",
    "              + ' : ' + str(self.depth))\n",
    "        \n",
    "    def deepcopy(self):\n",
    "        new_node = GPConstNode(value=self.const_value)\n",
    "        new_node.depth = self.depth;\n",
    "        return new_node\n",
    "        \n",
    "        \n",
    "class GPVariableNode(GPNode):\n",
    "    def __init__(self, variable_name=None):\n",
    "        super().__init__(node_type=\"Variable\")\n",
    "        self.variable_name = variable_name\n",
    "    \n",
    "    def evaluate(self, input_state):\n",
    "        return input_state[self.variable_name]\n",
    "    \n",
    "    def pretty_print(self, indents=0):\n",
    "        print('  '*indents + str(self.variable_name)\n",
    "              + ' : ' + str(self.depth))\n",
    "        \n",
    "    def deepcopy(self):\n",
    "        new_node = GPVariableNode(variable_name = self.variable_name)\n",
    "        new_node.depth = self.depth\n",
    "        return new_node\n",
    "        \n",
    "class GPFunctionNode(GPNode):\n",
    "    def __init__(self, arg_count, func_name=None, gp_function=None):\n",
    "        super().__init__(node_type=\"Function\")\n",
    "        self.argument_count = arg_count\n",
    "        self.gp_function = gp_function\n",
    "        self.function_name = func_name\n",
    "        \n",
    "    def evaluate(self, input_state): \n",
    "        assert self.argument_count == len(self.children), \\\n",
    "        'Number of child nodes must match argument count'\n",
    "\n",
    "        child_results = [c.evaluate(input_state) for c in self.children]\n",
    "        return self.gp_function(*child_results)\n",
    "\n",
    "    def pretty_print(self, indents=0):\n",
    "        print('  '*indents + str(self.function_name) \n",
    "              + ' : ' + str(self.depth))\n",
    "        \n",
    "        for child in self.children:\n",
    "            child.pretty_print(indents+1)\n",
    "        \n",
    "    def deepcopy(self):\n",
    "        new_node = GPFunctionNode(self.argument_count, \n",
    "                                   self.function_name, \n",
    "                                   self.gp_function)\n",
    "        new_node.depth = self.depth\n",
    "        \n",
    "        for child in self.children:\n",
    "            new_node.add_child(child.deepcopy())\n",
    "        \n",
    "        return new_node\n",
    "class GPIndividual:\n",
    "    # This is the beef of the individual code. We're growing random \n",
    "    # trees with a bit of extra sauce. \n",
    "    # We've defined a prob_terminal value that determines how \n",
    "    # likely it is that we select a terminal when choosing a random GP node. \n",
    "    # We're also limiting the depth of the trees we grow, because this is \n",
    "    # Python after all. \n",
    "    def grow_random(self, cur_node=None, cur_depth=0):\n",
    "        if (random.random() < self.prob_terminal \n",
    "            or cur_depth == self.max_genotype_depth-1):\n",
    "            new_node = random.choice(self.terminal_set).deepcopy()\n",
    "            new_node.parent = cur_node\n",
    "            new_node.depth = cur_depth\n",
    "        else:\n",
    "            new_node = random.choice(self.function_set).deepcopy()\n",
    "            new_node.depth = cur_depth\n",
    "            new_node.parent = cur_node\n",
    "            for i in range(new_node.argument_count):\n",
    "                new_node.add_child(self.grow_random(cur_node=new_node, \n",
    "                                                    cur_depth=cur_depth+1))\n",
    "        return new_node\n",
    "    \n",
    "    \n",
    "    # prob_terminal and max_depth have default parameters but you \n",
    "    # can use them to control how big the trees can get and how\n",
    "    # likely you are to pick function/terminal nodes when growing\n",
    "    # and mutating trees. \n",
    "    def __init__(self, function_set, terminal_set, \n",
    "                 prob_terminal=0.2, max_depth=5):\n",
    "        self.max_genotype_depth = max_depth\n",
    "        self.fitness = None\n",
    "        self.function_set = function_set\n",
    "        self.terminal_set = terminal_set\n",
    "        self.prob_terminal = prob_terminal\n",
    "        \n",
    "        self.genotype = self.grow_random()\n",
    "        \n",
    "        \n",
    "    def pretty_print(self):\n",
    "        self.genotype.pretty_print()\n",
    "        \n",
    "        \n",
    "    def deepcopy(self):\n",
    "        new_individual = GPIndividual(self.function_set, \n",
    "                                      self.terminal_set, \n",
    "                                      self.prob_terminal, \n",
    "                                      self.max_genotype_depth)\n",
    "        new_individual.genotype = self.genotype.deepcopy()\n",
    "        return new_individual\n",
    "    \n",
    "    \n",
    "    # This function just visits each node in the genome, growing\n",
    "    # the list of nodes as it encounters children.\n",
    "    def visit_genotype_nodes(self, cur_node=None):\n",
    "        if cur_node == None: \n",
    "            cur_node = self.genotype\n",
    "            \n",
    "        node_list = [cur_node]\n",
    "        visitor_index = 0\n",
    "        \n",
    "        while visitor_index < len(node_list):\n",
    "            if len(node_list[visitor_index].children) > 0:\n",
    "                node_list.extend(node_list[visitor_index].children)\n",
    "            visitor_index += 1\n",
    "            \n",
    "        return node_list\n",
    "        \n",
    "    \n",
    "    def evaluate(self, input_state):\n",
    "        #evaluate the genotype\n",
    "        individual_output = self.genotype.evaluate(input_state)\n",
    "        if individual_output < 0:\n",
    "            return 0\n",
    "        else:\n",
    "            return 1\n",
    "    \n",
    "    \n",
    "    #TODO: You might want to implement a more clever mutation function!\n",
    "    def mutate(self):\n",
    "        # get a list of nodes...\n",
    "        genotype_nodes = self.visit_genotype_nodes()\n",
    "        # and pick one! \n",
    "        random_node = random.choice(genotype_nodes)\n",
    "        \n",
    "        if random_node.parent == None:\n",
    "            #We've picked the root, so just grow a whole new genotype\n",
    "            self.genotype = self.grow_random()\n",
    "        else:\n",
    "            #generate a new subtree using the random node's parent\n",
    "            #as the parent for this subtree\n",
    "            new_node = self.grow_random(random_node.parent, random_node.depth)\n",
    "            #remove old node, add new node to parent's list of children\n",
    "            random_node.parent.children.remove(random_node)\n",
    "            random_node.parent.add_child(new_node)\n",
    "\n",
    "            \n",
    "class GPPopulation:\n",
    "    def __init__(self, pop_size, function_set, terminal_set, max_depth, prob_terminal):\n",
    "        self.pop_size = pop_size\n",
    "        self.terminal_set = terminal_set\n",
    "        self.function_set = function_set\n",
    "        self.max_depth = max_depth\n",
    "        self.prob_terminal = prob_terminal\n",
    "        \n",
    "        self.population = [GPIndividual(self.function_set, \n",
    "                                        self.terminal_set,\n",
    "                                        self.prob_terminal, \n",
    "                                        self.max_depth) \n",
    "                           for _ in range(self.pop_size)]\n",
    "        \n",
    "        \n",
    "    def update_fitnesses(self, fitness_function):\n",
    "        fitnesses = []\n",
    "        for individual in self.population:\n",
    "            individual.fitness = fitness_function(individual)\n",
    "            fitnesses.append(individual.fitness)\n",
    "            \n",
    "        return fitnesses\n",
    "    \n",
    "    \n",
    "    def do_timestep(self, fitness_function, selection_function, mutation_prob):\n",
    "        fitness_list = self.update_fitnesses(fitness_function)\n",
    "        selected_individuals = [selection_function(self.population) \n",
    "                                for _ in range(self.pop_size)]\n",
    "        \n",
    "        for individual_idx in range(len(selected_individuals)):\n",
    "            individual = selected_individuals[individual_idx].deepcopy()\n",
    "            \n",
    "            if random.random() < mutation_prob:\n",
    "                individual.mutate()\n",
    "            \n",
    "            selected_individuals[individual_idx] = individual\n",
    "        \n",
    "        self.population = selected_individuals\n",
    "        \n",
    "        return fitness_list\n"
   ]
  },
  {
   "cell_type": "markdown",
   "metadata": {},
   "source": [
    "## You'll want to add some more function nodes, and terminal nodes here\n"
   ]
  },
  {
   "cell_type": "code",
   "execution_count": 7,
   "metadata": {},
   "outputs": [],
   "source": [
    "gp_add = GPFunctionNode(arg_count=2, func_name=\"Add\", gp_function=lambda x, y: x+y)\n",
    "gp_sub = GPFunctionNode(arg_count=2, func_name=\"Sub\", gp_function=lambda x, y: x-y)\n",
    "\n",
    "gp_const1 = GPConstNode(-42)\n",
    "gp_const2 = GPConstNode(42)\n",
    "\n",
    "gp_func_set = [gp_add, gp_sub]\n",
    "gp_term_set = [gp_const1, gp_const2]"
   ]
  },
  {
   "cell_type": "markdown",
   "metadata": {},
   "source": [
    "## This is probably where most of your attention will go. \n",
    "You'll need to evaluate your genetic program tree on all (or probably a subset) of the x and y values provided and measure how good of a solution you have to assign fitness. As a point of reference the sum of squares (feel free to Wikipedia that term if it is unfamiliar) of the true solution and the noisy data I've provided is on the order of 500. \n",
    "\n",
    "The selection function is also rather simplistic. It just picks the highest fitness individual in the population. You probably should implement something like tournament selection or at least fitness proportional selection. This is a tricky solution to find the right solution to, so digging into some of the more advanced techniques we learned about in class would be worthwhile! "
   ]
  },
  {
   "cell_type": "code",
   "execution_count": 8,
   "metadata": {},
   "outputs": [],
   "source": [
    "def evlauate_symbolic_gp(individual):\n",
    "    x_vals = data_matrix[:,0]\n",
    "    y_vals = data_matrix[:,1]\n",
    "    z_vals = data_matrix[:,2]\n",
    "        \n",
    "    for obs_idx in range(len(x_vals)):\n",
    "        pass\n",
    "        \n",
    "    return 1\n",
    "\n",
    "\n",
    "def my_fitness_function(gp_individual):\n",
    "    return evlauate_symbolic_gp(gp_individual)\n",
    "\n",
    "def my_selection_function(gp_population):        \n",
    "    #pick max fitness individual\n",
    "    winner_index = np.argmin([i.fitness for i in gp_population])\n",
    "    return gp_population[winner_index]"
   ]
  },
  {
   "cell_type": "markdown",
   "metadata": {},
   "source": [
    "# Once you've implemented the above functions, this code should work!\n",
    "### I also just picked some random values for the population size, max_depth, etc., but feel free to experiment with those as well. "
   ]
  },
  {
   "cell_type": "code",
   "execution_count": 9,
   "metadata": {},
   "outputs": [],
   "source": [
    "mean_fitnesses = []\n",
    "\n",
    "gp_pop = GPPopulation(pop_size=100, \n",
    "                      function_set=gp_func_set, \n",
    "                      terminal_set=gp_term_set,\n",
    "                      max_depth=6,\n",
    "                      prob_terminal=0.2)\n",
    "\n",
    "\n",
    "for i in range(100):\n",
    "    fitnesses = gp_pop.do_timestep(fitness_function=my_fitness_function, \n",
    "                   selection_function=my_selection_function,\n",
    "                   mutation_prob=0.1)\n",
    "    mean_fitnesses.append(np.mean(fitnesses))"
   ]
  },
  {
   "cell_type": "markdown",
   "metadata": {},
   "source": [
    "## And to make sure things are progressing, let's plot the mean fitness over time!\n",
    "\n",
    "If your fitness function isn't working, you'll probably see a flat line."
   ]
  },
  {
   "cell_type": "code",
   "execution_count": 10,
   "metadata": {},
   "outputs": [
    {
     "data": {
      "image/png": "[encoded data removed]",
      "text/plain": [
       "<matplotlib.figure.Figure at 0x121107630>"
      ]
     },
     "metadata": {},
     "output_type": "display_data"
    }
   ],
   "source": [
    "pyplot.plot(mean_fitnesses)\n",
    "pyplot.xlabel(\"Generations\")\n",
    "pyplot.ylabel(\"Fitness\")\n",
    "pyplot.show()"
   ]
  }
 ],
 "metadata": {
  "kernelspec": {
   "display_name": "Python 3",
   "language": "python",
   "name": "python3"
  },
  "language_info": {
   "codemirror_mode": {
    "name": "ipython",
    "version": 3
   },
   "file_extension": ".py",
   "mimetype": "text/x-python",
   "name": "python",
   "nbconvert_exporter": "python",
   "pygments_lexer": "ipython3",
   "version": "3.6.7"
  }
 },
 "nbformat": 4,
 "nbformat_minor": 2
}
