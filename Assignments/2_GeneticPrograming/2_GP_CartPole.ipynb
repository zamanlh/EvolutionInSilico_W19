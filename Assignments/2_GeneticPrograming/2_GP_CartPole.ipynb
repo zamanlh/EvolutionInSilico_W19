{
 "cells": [
  {
   "cell_type": "markdown",
   "metadata": {},
   "source": [
    "# GP Homework: Balancing a pole on cart. "
   ]
  },
  {
   "cell_type": "markdown",
   "metadata": {},
   "source": [
    "### Goals\n",
    "In this homework notebook, the goal is to evolve a genetic program that controls a cart with a pole attached to it by a passive joint. The pole is initially positioned at a random angle and with a random initial velocity (within some reasonable range). \n",
    "\n",
    "You can move the cart to the left or to the right with the same amount of force. This is represented, and transmitted as an action, in the simulation as a 0 (move left) or 1 (move right). In control systems lingo, this is called bang-bang control. Your goal is to balance the pole without letting it tilt too far in either direction by only moving the cart. \n",
    "\n",
    "The simulation of the cart will give you 4 bits of information in each step, the cart's position, the cart's velocity, the pole's angle, and the pole's velocity measured at it's highest point. You should probably create terminal nodes that take advantage of these in your evolved programs. \n",
    "\n",
    "### The Simulation\n",
    "To get a physical simulation of the cart-pole problem and some nice visuals, we'll use the OpenAI Gym package. I'll walk through some of the details of this package here, but first we'll have to install it. The easiest way is to install it via `pip install gym` in the command line, but luckily Jupyter Notebooks provides a little trick to do this for us. If this comes back with an error, let me know and we'll try to get it resolved!\n"
   ]
  },
  {
   "cell_type": "code",
   "execution_count": 1,
   "metadata": {},
   "outputs": [
    {
     "name": "stdout",
     "output_type": "stream",
     "text": [
      "Requirement already satisfied: gym in /Users/zamanlh/anaconda3/lib/python3.6/site-packages (0.9.4)\n",
      "Requirement already satisfied: pyglet>=1.2.0 in /Users/zamanlh/anaconda3/lib/python3.6/site-packages (from gym) (1.2.4)\n",
      "Requirement already satisfied: requests>=2.0 in /Users/zamanlh/anaconda3/lib/python3.6/site-packages (from gym) (2.18.4)\n",
      "Requirement already satisfied: numpy>=1.10.4 in /Users/zamanlh/anaconda3/lib/python3.6/site-packages (from gym) (1.13.3)\n",
      "Requirement already satisfied: six in /Users/zamanlh/anaconda3/lib/python3.6/site-packages (from gym) (1.11.0)\n",
      "Requirement already satisfied: chardet<3.1.0,>=3.0.2 in /Users/zamanlh/anaconda3/lib/python3.6/site-packages (from requests>=2.0->gym) (3.0.4)\n",
      "Requirement already satisfied: idna<2.7,>=2.5 in /Users/zamanlh/anaconda3/lib/python3.6/site-packages (from requests>=2.0->gym) (2.6)\n",
      "Requirement already satisfied: urllib3<1.23,>=1.21.1 in /Users/zamanlh/anaconda3/lib/python3.6/site-packages (from requests>=2.0->gym) (1.22)\n",
      "Requirement already satisfied: certifi>=2017.4.17 in /Users/zamanlh/anaconda3/lib/python3.6/site-packages (from requests>=2.0->gym) (2018.11.29)\n"
     ]
    }
   ],
   "source": [
    "!pip install gym"
   ]
  },
  {
   "cell_type": "markdown",
   "metadata": {},
   "source": [
    "## Now let's play with the simulation environment!\n",
    "This code will create the Cart-Pole environment and simulate it for 500 steps where each action is sampled randomly from the set of possible actions (`possible_actions`).\n",
    "\n",
    "We'll also save the output of this simulation to a new folder \"cartpole-results\". This will save a detailed trace of each action, but also a little video of the cart and pole! If you turn this line off, the simulation will run without graphics and be **MUCH** faster (*hint: don't do this during evolution, but only when you want to inspect a particular evolved solution)*.\n",
    "\n",
    "Note the 4 returns from the `env.step(action)` call. The four values I described in the Goals section are actually all within the first return, `observation`. We'll look a bit more into that in a second. "
   ]
  },
  {
   "cell_type": "code",
   "execution_count": 2,
   "metadata": {},
   "outputs": [],
   "source": [
    "import gym\n",
    "import random\n",
    "from gym import wrappers\n",
    "\n",
    "#Setup the cart pole balancing problem\n",
    "env = gym.make('CartPole-v0')\n",
    "\n",
    "#This tells the environment to run for a max of 500 steps\n",
    "#Less than 200 is probably too short, and more than 500 might\n",
    "#be overkill, but I'm not really sure!\n",
    "env._max_episode_steps = 500\n",
    "\n",
    "#This is the bit that turns on the \"recording\" of the run. Slow, but cool.\n",
    "env = wrappers.Monitor(env, \"./cartpole-results\", force=True)\n",
    "\n",
    "#Push cart left, or push it right\n",
    "possible_actions = [0,1]\n",
    "\n",
    "#Reset the cart and pole with a random initial condition\n",
    "#We can get all the info about the car and the pole from the\n",
    "#observation variable and do something with it. But for now\n",
    "#we'll just ignore it. \n",
    "observation = env.reset()\n",
    "\n",
    "for i in range(500):\n",
    "    #Pick a random action, and perform a step in the simulation\n",
    "    action = random.choice(possible_actions)\n",
    "    observation, reward, done, info = env.step(action)\n",
    "    \n",
    "    #The simulation may tell us it's over before we've run all 500 steps\n",
    "    #This often happens when the pole tilts too far!\n",
    "    if done: \n",
    "        break\n",
    "\n",
    "env.close()"
   ]
  },
  {
   "cell_type": "markdown",
   "metadata": {},
   "source": [
    "### Before we go look at that video, let's look into some of these variables.\n",
    "`observation, reward, done, info = env.step(action)`\n",
    "In case you haven't seen this notation before, it's just a quick way of unpacking multiple return values from a python function. In this case, most of the useful bits are wrapped up in `observation`. \n",
    "\n",
    "In this environment, `reward` returns 1 for each step, regardless of if that step was useful or not. Similarly, `info` is probably always empty, and `done` is 0 until the pole has tipped too far. These variables are more useful in other Gym environments and this package provides a consistent interface to simulation environments to make it easy to plug-and-play. \n",
    "\n",
    "### Let's look at what is in the last observation"
   ]
  },
  {
   "cell_type": "code",
   "execution_count": 3,
   "metadata": {},
   "outputs": [
    {
     "name": "stdout",
     "output_type": "stream",
     "text": [
      "[-0.16197577 -0.77099747  0.23130999  1.4512521 ]\n"
     ]
    }
   ],
   "source": [
    "print(observation)"
   ]
  },
  {
   "cell_type": "markdown",
   "metadata": {},
   "source": [
    "# The documentation for this environment tells us what these values represent:\n",
    "\n",
    "### Observation\n",
    "Num | Observation | Min | Max\n",
    "---|---|---|---\n",
    "0 | Cart Position | -2.4 | 2.4\n",
    "1 | Cart Velocity | -Inf | Inf\n",
    "2 | Pole Angle | ~ -41.8&deg; | ~ 41.8&deg;\n",
    "3 | Pole Velocity At Tip | -Inf | Inf\n",
    "\n",
    "### Remember, these are probably the most useful values to use as variables in your genetic program!\n",
    "\n",
    "### Now onto the video!\n",
    "The code block below will load the video file saved in the subdirectory we specified, and render it in the browser. Don't worry too much what exactly is going on here. If you can't get it to load, you can always look in the subfolder and play the video from there. "
   ]
  },
  {
   "cell_type": "code",
   "execution_count": 4,
   "metadata": {},
   "outputs": [
    {
     "data": {
      "text/html": [
       "\n",
       "    <video width=\"360\" height=\"auto\" alt=\"test\" controls><source src=\"data:video/mp4;base64,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\" type=\"video/mp4\" /></video>"
      ],
      "text/plain": [
       "<IPython.core.display.HTML object>"
      ]
     },
     "execution_count": 4,
     "metadata": {},
     "output_type": "execute_result"
    }
   ],
   "source": [
    "import io\n",
    "import base64\n",
    "from IPython.display import HTML\n",
    "\n",
    "video = io.open('./cartpole-results/openaigym.video.%s.video000000.mp4' % env.file_infix, 'r+b').read()\n",
    "encoded = base64.b64encode(video)\n",
    "HTML(data='''\n",
    "    <video width=\"360\" height=\"auto\" alt=\"test\" controls><source src=\"data:video/mp4;base64,{0}\" type=\"video/mp4\" /></video>'''\n",
    ".format(encoded.decode('ascii')))\n"
   ]
  },
  {
   "cell_type": "markdown",
   "metadata": {},
   "source": [
    "### Cool!\n",
    "Note that the simulation ended as the pole leaned too far. This saves execution time, especially when we're evaluating random programs!"
   ]
  },
  {
   "cell_type": "markdown",
   "metadata": {},
   "source": [
    "<br>\n",
    "<br>"
   ]
  },
  {
   "cell_type": "markdown",
   "metadata": {},
   "source": [
    "# This is the code you've seen before in the GP worksheets. \n",
    "You shouldn't need to change any of this, but you might want to implement smarter mutation functions. That part of the code begins at Line 164."
   ]
  },
  {
   "cell_type": "code",
   "execution_count": 5,
   "metadata": {},
   "outputs": [],
   "source": [
    "import gym\n",
    "from gym import wrappers\n",
    "import numpy as np\n",
    "from matplotlib import pyplot\n",
    "import random\n",
    "\n",
    "class GPNode:\n",
    "    def __init__(self, node_type=None):\n",
    "        self.parent = None\n",
    "        self.node_type = node_type\n",
    "        self.children = []\n",
    "        self.depth = 0\n",
    "        \n",
    "    def add_child(self, child_node):\n",
    "        child_node.depth = self.depth+1\n",
    "        self.children.append(child_node)\n",
    "        child_node.parent = self\n",
    "    \n",
    "    \n",
    "class GPConstNode(GPNode):\n",
    "    def __init__(self, value=None):\n",
    "        super().__init__(node_type=\"Const\")\n",
    "        self.const_value = value\n",
    "    \n",
    "    def evaluate(self, input_state):\n",
    "        return self.const_value\n",
    "        \n",
    "    def pretty_print(self, indents=0):\n",
    "        print('  '*indents + str(self.const_value) \n",
    "              + ' : ' + str(self.depth))\n",
    "        \n",
    "    def deepcopy(self):\n",
    "        new_node = GPConstNode(value=self.const_value)\n",
    "        new_node.depth = self.depth;\n",
    "        return new_node\n",
    "        \n",
    "        \n",
    "class GPVariableNode(GPNode):\n",
    "    def __init__(self, variable_name=None):\n",
    "        super().__init__(node_type=\"Variable\")\n",
    "        self.variable_name = variable_name\n",
    "    \n",
    "    def evaluate(self, input_state):\n",
    "        return input_state[self.variable_name]\n",
    "    \n",
    "    def pretty_print(self, indents=0):\n",
    "        print('  '*indents + str(self.variable_name)\n",
    "              + ' : ' + str(self.depth))\n",
    "        \n",
    "    def deepcopy(self):\n",
    "        new_node = GPVariableNode(variable_name = self.variable_name)\n",
    "        new_node.depth = self.depth\n",
    "        return new_node\n",
    "        \n",
    "class GPFunctionNode(GPNode):\n",
    "    def __init__(self, arg_count, func_name=None, gp_function=None):\n",
    "        super().__init__(node_type=\"Function\")\n",
    "        self.argument_count = arg_count\n",
    "        self.gp_function = gp_function\n",
    "        self.function_name = func_name\n",
    "        \n",
    "    def evaluate(self, input_state): \n",
    "        assert self.argument_count == len(self.children), \\\n",
    "        'Number of child nodes must match argument count'\n",
    "\n",
    "        child_results = [c.evaluate(input_state) for c in self.children]\n",
    "        return self.gp_function(*child_results)\n",
    "\n",
    "    def pretty_print(self, indents=0):\n",
    "        print('  '*indents + str(self.function_name) \n",
    "              + ' : ' + str(self.depth))\n",
    "        \n",
    "        for child in self.children:\n",
    "            child.pretty_print(indents+1)\n",
    "        \n",
    "    def deepcopy(self):\n",
    "        new_node = GPFunctionNode(self.argument_count, \n",
    "                                   self.function_name, \n",
    "                                   self.gp_function)\n",
    "        new_node.depth = self.depth\n",
    "        \n",
    "        for child in self.children:\n",
    "            new_node.add_child(child.deepcopy())\n",
    "        \n",
    "        return new_node\n",
    "class GPIndividual:\n",
    "    # This is the beef of the individual code. We're growing random \n",
    "    # trees with a bit of extra sauce. \n",
    "    # We've defined a prob_terminal value that determines how \n",
    "    # likely it is that we select a terminal when choosing a random GP node. \n",
    "    # We're also limiting the depth of the trees we grow, because this is \n",
    "    # Python after all. \n",
    "    def grow_random(self, cur_node=None, cur_depth=0):\n",
    "        if (random.random() < self.prob_terminal \n",
    "            or cur_depth == self.max_genotype_depth-1):\n",
    "            new_node = random.choice(self.terminal_set).deepcopy()\n",
    "            new_node.parent = cur_node\n",
    "            new_node.depth = cur_depth\n",
    "        else:\n",
    "            new_node = random.choice(self.function_set).deepcopy()\n",
    "            new_node.depth = cur_depth\n",
    "            new_node.parent = cur_node\n",
    "            for i in range(new_node.argument_count):\n",
    "                new_node.add_child(self.grow_random(cur_node=new_node, \n",
    "                                                    cur_depth=cur_depth+1))\n",
    "        return new_node\n",
    "    \n",
    "    \n",
    "    # prob_terminal and max_depth have default parameters but you \n",
    "    # can use them to control how big the trees can get and how\n",
    "    # likely you are to pick function/terminal nodes when growing\n",
    "    # and mutating trees. \n",
    "    def __init__(self, function_set, terminal_set, \n",
    "                 prob_terminal=0.2, max_depth=5):\n",
    "        self.max_genotype_depth = max_depth\n",
    "        self.fitness = None\n",
    "        self.function_set = function_set\n",
    "        self.terminal_set = terminal_set\n",
    "        self.prob_terminal = prob_terminal\n",
    "        \n",
    "        self.genotype = self.grow_random()\n",
    "        \n",
    "        \n",
    "    def pretty_print(self):\n",
    "        self.genotype.pretty_print()\n",
    "        \n",
    "        \n",
    "    def deepcopy(self):\n",
    "        new_individual = GPIndividual(self.function_set, \n",
    "                                      self.terminal_set, \n",
    "                                      self.prob_terminal, \n",
    "                                      self.max_genotype_depth)\n",
    "        new_individual.genotype = self.genotype.deepcopy()\n",
    "        return new_individual\n",
    "    \n",
    "    \n",
    "    # This function just visits each node in the genome, growing\n",
    "    # the list of nodes as it encounters children.\n",
    "    def visit_genotype_nodes(self, cur_node=None):\n",
    "        if cur_node == None: \n",
    "            cur_node = self.genotype\n",
    "            \n",
    "        node_list = [cur_node]\n",
    "        visitor_index = 0\n",
    "        \n",
    "        while visitor_index < len(node_list):\n",
    "            if len(node_list[visitor_index].children) > 0:\n",
    "                node_list.extend(node_list[visitor_index].children)\n",
    "            visitor_index += 1\n",
    "            \n",
    "        return node_list\n",
    "        \n",
    "    \n",
    "    def evaluate(self, input_state):\n",
    "        #evaluate the genotype\n",
    "        individual_output = self.genotype.evaluate(input_state)\n",
    "        if individual_output < 0:\n",
    "            return 0\n",
    "        else:\n",
    "            return 1\n",
    "    \n",
    "    \n",
    "    #TODO: You might want to implement a more clever mutation function!\n",
    "    def mutate(self):\n",
    "        # get a list of nodes...\n",
    "        genotype_nodes = self.visit_genotype_nodes()\n",
    "        # and pick one! \n",
    "        random_node = random.choice(genotype_nodes)\n",
    "        \n",
    "        if random_node.parent == None:\n",
    "            #We've picked the root, so just grow a whole new genotype\n",
    "            self.genotype = self.grow_random()\n",
    "        else:\n",
    "            #generate a new subtree using the random node's parent\n",
    "            #as the parent for this subtree\n",
    "            new_node = self.grow_random(random_node.parent, random_node.depth)\n",
    "            #remove old node, add new node to parent's list of children\n",
    "            random_node.parent.children.remove(random_node)\n",
    "            random_node.parent.add_child(new_node)\n",
    "\n",
    "            \n",
    "class GPPopulation:\n",
    "    def __init__(self, pop_size, function_set, terminal_set, max_depth, prob_terminal):\n",
    "        self.pop_size = pop_size\n",
    "        self.terminal_set = terminal_set\n",
    "        self.function_set = function_set\n",
    "        self.max_depth = max_depth\n",
    "        self.prob_terminal = prob_terminal\n",
    "        \n",
    "        self.population = [GPIndividual(self.function_set, \n",
    "                                        self.terminal_set,\n",
    "                                        self.prob_terminal, \n",
    "                                        self.max_depth) \n",
    "                           for _ in range(self.pop_size)]\n",
    "        \n",
    "        \n",
    "    def update_fitnesses(self, fitness_function):\n",
    "        fitnesses = []\n",
    "        for individual in self.population:\n",
    "            individual.fitness = fitness_function(individual)\n",
    "            fitnesses.append(individual.fitness)\n",
    "            \n",
    "        return fitnesses\n",
    "    \n",
    "    \n",
    "    def do_timestep(self, fitness_function, selection_function, mutation_prob):\n",
    "        fitness_list = self.update_fitnesses(fitness_function)\n",
    "        selected_individuals = [selection_function(self.population) \n",
    "                                for _ in range(self.pop_size)]\n",
    "        \n",
    "        for individual_idx in range(len(selected_individuals)):\n",
    "            individual = selected_individuals[individual_idx].deepcopy()\n",
    "            \n",
    "            if random.random() < mutation_prob:\n",
    "                individual.mutate()\n",
    "            \n",
    "            selected_individuals[individual_idx] = individual\n",
    "        \n",
    "        self.population = selected_individuals\n",
    "        \n",
    "        return fitness_list\n"
   ]
  },
  {
   "cell_type": "markdown",
   "metadata": {},
   "source": [
    "## You'll want to add some more function nodes, and terminal nodes here\n"
   ]
  },
  {
   "cell_type": "code",
   "execution_count": 6,
   "metadata": {},
   "outputs": [],
   "source": [
    "gp_add = GPFunctionNode(arg_count=2, func_name=\"Add\", gp_function=lambda x, y: x+y)\n",
    "gp_sub = GPFunctionNode(arg_count=2, func_name=\"Sub\", gp_function=lambda x, y: x-y)\n",
    "\n",
    "gp_const1 = GPConstNode(-42)\n",
    "gp_const2 = GPConstNode(42)\n",
    "\n",
    "\n",
    "gp_func_set = [gp_add, gp_sub]\n",
    "gp_term_set = [gp_const1, gp_const2]"
   ]
  },
  {
   "cell_type": "markdown",
   "metadata": {},
   "source": [
    "## This is probably where most of your attention will go. \n",
    "You should connect a genetic program individual to your cart balancing task, and figure out a way to assign a `fitness` to each individual! \n",
    "\n",
    "I've given you a function that creates the simulation environment and randomly picks an action, like before. It also returns a value of `1` for a fitness, which you should also change. \n",
    "\n",
    "The selection function is also rather simplistic. It just picks the best individual in the population. You probably should implement something like tournament selection or at least fitness proportional selection. "
   ]
  },
  {
   "cell_type": "code",
   "execution_count": 7,
   "metadata": {},
   "outputs": [],
   "source": [
    "def evlauate_cartpole_gp(individual):\n",
    "    env = gym.make('CartPole-v0')\n",
    "    env._max_episode_steps = 500\n",
    "    observation = env.reset()\n",
    "    for step_num in range(1000):\n",
    "        \n",
    "        #This is what you want to change:\n",
    "        #Make your action the result of a genetic program evaluation!\n",
    "        action = random.choice([0,1])\n",
    "        \n",
    "        observation, reward, done, info = env.step(action)\n",
    "        if done: \n",
    "            break\n",
    "    env.close()\n",
    "    return 1\n",
    "\n",
    "\n",
    "def my_fitness_function(gp_individual):\n",
    "    return evlauate_cartpole_gp(gp_individual)\n",
    "\n",
    "def my_selection_function(gp_population):    \n",
    "    #pick max fitness individual\n",
    "    winner_index = np.argmax([i.fitness for i in gp_population])\n",
    "    return gp_population[winner_index]"
   ]
  },
  {
   "cell_type": "markdown",
   "metadata": {},
   "source": [
    "# Once you've implemented the above functions, this code should work!\n",
    "### I also just picked some random values for the population size, max_depth, etc., but feel free to experiment with those as well. "
   ]
  },
  {
   "cell_type": "code",
   "execution_count": 8,
   "metadata": {},
   "outputs": [],
   "source": [
    "mean_fitnesses = []\n",
    "\n",
    "gp_pop = GPPopulation(pop_size=100, \n",
    "                      function_set=gp_func_set, \n",
    "                      terminal_set=gp_term_set,\n",
    "                      max_depth=6,\n",
    "                      prob_terminal=0.2)\n",
    "\n",
    "\n",
    "for i in range(10):\n",
    "    fitnesses = gp_pop.do_timestep(fitness_function=my_fitness_function, \n",
    "                   selection_function=my_selection_function,\n",
    "                   mutation_prob=0.1)\n",
    "    mean_fitnesses.append(np.mean(fitnesses))"
   ]
  },
  {
   "cell_type": "markdown",
   "metadata": {},
   "source": [
    "## And to make sure things are progressing, let's plot the mean fitness over time!\n",
    "\n",
    "If your fitness function isn't working, you'll probably see a flat line."
   ]
  },
  {
   "cell_type": "code",
   "execution_count": 9,
   "metadata": {},
   "outputs": [
    {
     "data": {
      "image/png": "[encoded data removed]",
      "text/plain": [
       "<matplotlib.figure.Figure at 0x10a69ae80>"
      ]
     },
     "metadata": {},
     "output_type": "display_data"
    }
   ],
   "source": [
    "pyplot.plot(mean_fitnesses)\n",
    "pyplot.xlabel(\"Generations\")\n",
    "pyplot.ylabel(\"Fitness\")\n",
    "pyplot.show()"
   ]
  }
 ],
 "metadata": {
  "kernelspec": {
   "display_name": "Python 3",
   "language": "python",
   "name": "python3"
  },
  "language_info": {
   "codemirror_mode": {
    "name": "ipython",
    "version": 3
   },
   "file_extension": ".py",
   "mimetype": "text/x-python",
   "name": "python",
   "nbconvert_exporter": "python",
   "pygments_lexer": "ipython3",
   "version": "3.6.7"
  }
 },
 "nbformat": 4,
 "nbformat_minor": 2
}
