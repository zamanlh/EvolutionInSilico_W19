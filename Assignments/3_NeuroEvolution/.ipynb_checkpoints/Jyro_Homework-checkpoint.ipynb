{
 "cells": [
  {
   "cell_type": "markdown",
   "metadata": {},
   "source": [
    "# Neuroevolution (Coevolution) Homework\n",
    "\n",
    "\n",
    "### You should feel free to manipulate the fitness function, selection methods, recombination, diversity maintenance, and the structure of the neural network brain to try and evolve better robots. \n",
    "\n",
    "### You can also change how the evolution is implemented. Maybe you first evolve predators that are good at catching randomly moving prey, and then evolve prey good at evading those predators, for example.\n",
    "\n",
    "Evaluation is slow in this setup, and the brains are quite large, so you may have to get creative if you want to evolve sophisticated behaviors! If you were extra ambitious, I would suggest looking at how image classification is often implemented with neural networks -- there are some tricks that might come in handy!\n"
   ]
  },
  {
   "cell_type": "code",
   "execution_count": 304,
   "metadata": {},
   "outputs": [],
   "source": [
    "from IPython.display import display, clear_output\n",
    "from jyro.simulator import *\n",
    "import random\n",
    "import numpy as np\n",
    "\n",
    "# We'll create a box for the robot to live in\n",
    "# and a light source\n",
    "def make_world(sim):\n",
    "    sim.addBox(0, 0, 15, 15, fill=\"backgroundgreen\", wallcolor=\"gray\") #bounding box\n",
    "    #sim.addLight(7.5, 7.5, 2) #paramters are x, y, brightness\n",
    "    \n",
    "#We'll give our robot the 16 sonar distance sensors, some light sensors\n",
    "class PredatorBot(Pioneer):\n",
    "    def __init__(self, name, x, y, angle):\n",
    "        Pioneer.__init__(self, name, x, y, angle, color=\"red\")\n",
    "        self.addDevice(Pioneer16Sonars())\n",
    "        #parameter defines max range in meters\n",
    "        self.addDevice(Camera(60, 40, field=90))\n",
    "        \n",
    "    def move(self, linear, rotational):\n",
    "        if -1 > linear > 1 or -1 > rotational > 1:\n",
    "            super().move(random.uniform(-1, 1), random.uniform(-1, 1))\n",
    "            print(\"moving randomly!\")\n",
    "        else:\n",
    "            #Make this multipler lower than 1.0 to make predators turn slower than prey\n",
    "            super().move(linear, rotational*1.0)\n",
    "        \n",
    "class PreyBot(Pioneer):\n",
    "    def __init__(self, name, x, y, angle):\n",
    "        Pioneer.__init__(self, name, x, y, angle, color=\"blue\")\n",
    "        self.addDevice(Pioneer16Sonars())\n",
    "        #parameter defines max range in meters\n",
    "        self.addDevice(Camera(60, 40, field=90))\n",
    "        \n",
    "    def move(self, linear, rotational):\n",
    "        if -1 > linear > 1 or -1 > rotational > 1:\n",
    "            super().move(random.uniform(-1, 1), random.uniform(-1, 1))\n",
    "            print(\"moving randomly!\")\n",
    "        else:\n",
    "            #Make the multiplier greater than 1.0 to make prey run faster than predators\n",
    "            super().move(linear*1.0, rotational)\n",
    "        "
   ]
  },
  {
   "cell_type": "markdown",
   "metadata": {},
   "source": [
    "## We can make a world where the two robots start off relatively close together"
   ]
  },
  {
   "cell_type": "code",
   "execution_count": 305,
   "metadata": {},
   "outputs": [],
   "source": [
    "def setup_world(pred_brain, prey_brain):\n",
    "    pred_bot = PredatorBot(\"Pred\", 7, 7, 0)\n",
    "    prey_bot = PreyBot(\"Prey\", 8, 8, 3.14)\n",
    "    sim = Physics()\n",
    "    make_world(sim)\n",
    "    \n",
    "    sim.addRobot(pred_bot)\n",
    "    pred_bot.brain = pred_brain\n",
    "    \n",
    "    sim.addRobot(prey_bot)\n",
    "    prey_bot.brain = prey_brain\n",
    "    \n",
    "    return sim, pred_bot, prey_bot"
   ]
  },
  {
   "cell_type": "markdown",
   "metadata": {},
   "source": [
    "## Here's a little visualization so we can see what the robot sees.\n",
    "We'll start them next to each other, just barely in their range of vision"
   ]
  },
  {
   "cell_type": "code",
   "execution_count": 329,
   "metadata": {
    "scrolled": false
   },
   "outputs": [
    {
     "data": {
      "image/svg+xml": [
       "<svg baseProfile=\"full\" height=\"250\" version=\"1.1\" width=\"250\" xmlns=\"http://www.w3.org/2000/svg\" xmlns:ev=\"http://www.w3.org/2001/xml-events\" xmlns:xlink=\"http://www.w3.org/1999/xlink\"><defs /><rect fill=\"#eef3dd\" height=\"250.00000000000003\" stroke=\"#bebebe\" stroke-width=\"1\" width=\"250.00000000000003\" x=\"0.0\" y=\"0.0\" /><line fill=\"#800080\" stroke=\"#add8e6\" stroke-width=\"1\" x1=\"113.75000000000001\" x2=\"0.0\" y1=\"131.66666666666669\" y2=\"131.66666666666669\" /><line fill=\"#800080\" stroke=\"#add8e6\" stroke-width=\"1\" x1=\"114.16666666666667\" x2=\"0.0\" y1=\"130.5\" y2=\"77.26320500000001\" /><line fill=\"#800080\" stroke=\"#d3d3d3\" stroke-width=\"1\" x1=\"114.83333333333334\" x2=\"29.12831870846143\" y1=\"130.0\" y2=\"27.860740917469567\" /><line fill=\"#800080\" stroke=\"#d3d3d3\" stroke-width=\"1\" x1=\"115.83333333333334\" x2=\"81.32412731966392\" y1=\"129.58333333333334\" y2=\"0.7932231614575496\" /><line fill=\"#800080\" stroke=\"#d3d3d3\" stroke-width=\"1\" x1=\"117.5\" x2=\"152.00920601366946\" y1=\"129.58333333333334\" y2=\"0.7932231614575496\" /><line fill=\"#800080\" stroke=\"#d3d3d3\" stroke-width=\"1\" x1=\"118.50000000000001\" x2=\"204.2050146248719\" y1=\"130.0\" y2=\"27.860740917469567\" /><line fill=\"#800080\" stroke=\"#d3d3d3\" stroke-width=\"1\" x1=\"119.16666666666669\" x2=\"240.00770493822\" y1=\"130.5\" y2=\"74.1508984345734\" /><line fill=\"#800080\" stroke=\"#add8e6\" stroke-width=\"1\" x1=\"119.58333333333334\" x2=\"250.00000000000003\" y1=\"131.66666666666669\" y2=\"131.66666666666669\" /><line fill=\"#800080\" stroke=\"#add8e6\" stroke-width=\"1\" x1=\"119.58333333333334\" x2=\"250.00000000000003\" y1=\"135.0\" y2=\"135.0\" /><line fill=\"#800080\" stroke=\"#d3d3d3\" stroke-width=\"1\" x1=\"119.16666666666669\" x2=\"240.00770493822006\" y1=\"136.16666666666669\" y2=\"192.51576823209322\" /><line fill=\"#800080\" stroke=\"#d3d3d3\" stroke-width=\"1\" x1=\"118.50000000000001\" x2=\"204.2050146248719\" y1=\"136.66666666666666\" y2=\"238.80592574919712\" /><line fill=\"#800080\" stroke=\"#add8e6\" stroke-width=\"1\" x1=\"117.5\" x2=\"147.75593036111042\" y1=\"137.08333333333334\" y2=\"250.00000000000003\" /><line fill=\"#800080\" stroke=\"#add8e6\" stroke-width=\"1\" x1=\"115.83333333333334\" x2=\"85.57740297222293\" y1=\"137.08333333333334\" y2=\"250.00000000000003\" /><line fill=\"#800080\" stroke=\"#d3d3d3\" stroke-width=\"1\" x1=\"114.83333333333334\" x2=\"29.1283187084614\" y1=\"136.66666666666666\" y2=\"238.80592574919706\" /><line fill=\"#800080\" stroke=\"#add8e6\" stroke-width=\"1\" x1=\"114.16666666666667\" x2=\"0.0\" y1=\"136.16666666666669\" y2=\"189.4034616666667\" /><line fill=\"#800080\" stroke=\"#add8e6\" stroke-width=\"1\" x1=\"113.75000000000001\" x2=\"0.0\" y1=\"135.0\" y2=\"135.0\" /><line fill=\"#800080\" stroke=\"#a020f0\" stroke-width=\"1\" x1=\"116.66666666666667\" x2=\"0.0\" y1=\"133.33333333333334\" y2=\"16.666666666666668\" /><line fill=\"#800080\" stroke=\"#a020f0\" stroke-width=\"1\" x1=\"116.66666666666667\" x2=\"250.00000000000003\" y1=\"133.33333333333334\" y2=\"0.0\" /><polygon fill=\"red\" points=\"115.33333333333334,129.58333333333334 113.75000000000001,130.83333333333334 113.75000000000001,135.83333333333334 115.33333333333334,137.08333333333334 118.00000000000001,137.08333333333334 119.58333333333334,135.83333333333334 119.58333333333334,130.83333333333334 118.00000000000001,129.58333333333334\" stroke=\"red\" stroke-width=\"1\" /><polygon points=\"-0.8333333333333335,-0.8333333333333335 0,0 0.8333333333333335,-0.8333333333333335 0,0.8333333333333335\" stroke=\"black\" stroke-width=\"1\" transform=\"translate(116.66666666666667,133.33333333333334) rotate(180.0)\" /><polygon fill=\"black\" points=\"117.66666666666667,131.00000000000003 117.66666666666667,132.33333333333334 115.66666666666669,132.33333333333334 115.66666666666669,131.00000000000003\" stroke=\"black\" stroke-width=\"1\" /><line fill=\"#800080\" stroke=\"#add8e6\" stroke-width=\"1\" x1=\"136.24734187934453\" x2=\"250.00000000000003\" y1=\"118.33797645721899\" y2=\"118.51915000000001\" /><line fill=\"#800080\" stroke=\"#add8e6\" stroke-width=\"1\" x1=\"135.82881764605546\" x2=\"250.00000000000003\" y1=\"119.50397803885258\" y2=\"172.96441666666666\" /><line fill=\"#800080\" stroke=\"#d3d3d3\" stroke-width=\"1\" x1=\"135.16135549844554\" x2=\"220.70358903714208\" y1=\"120.00291563610536\" y2=\"222.2785435197262\" /><line fill=\"#800080\" stroke=\"#d3d3d3\" stroke-width=\"1\" x1=\"134.16069316133613\" x2=\"168.46473746335008\" y1=\"120.41798912140868\" y2=\"249.26289713993788\" /><line fill=\"#800080\" stroke=\"#d3d3d3\" stroke-width=\"1\" x1=\"132.4940286084569\" x2=\"97.77974841728316\" y1=\"120.41533469988121\" y2=\"249.15032034320373\" /><line fill=\"#800080\" stroke=\"#add8e6\" stroke-width=\"1\" x1=\"131.49469348211122\" x2=\"119.58333333333334\" y1=\"119.99707590874492\" y2=\"134.14665525\" /><line fill=\"#800080\" stroke=\"#d3d3d3\" stroke-width=\"1\" x1=\"130.82882398741776\" x2=\"9.898194414275782\" y1=\"119.49601477427017\" y2=\"175.6525870416486\" /><line fill=\"#800080\" stroke=\"#add8e6\" stroke-width=\"1\" x1=\"130.4140159442672\" x2=\"0.0\" y1=\"118.32868598187282\" y2=\"118.12097666666668\" /><line fill=\"#800080\" stroke=\"#add8e6\" stroke-width=\"1\" x1=\"130.41932478732215\" x2=\"0.0\" y1=\"114.99535687611434\" y2=\"114.78763833333333\" /><line fill=\"#800080\" stroke=\"#d3d3d3\" stroke-width=\"1\" x1=\"130.8378490206112\" x2=\"10.086708569368346\" y1=\"113.82935529448076\" y2=\"57.287867363033456\" /><line fill=\"#800080\" stroke=\"#d3d3d3\" stroke-width=\"1\" x1=\"131.50531116822114\" x2=\"45.96307762952464\" y1=\"113.33041769722797\" y2=\"11.05478981360708\" /><line fill=\"#800080\" stroke=\"#add8e6\" stroke-width=\"1\" x1=\"132.50597350533056\" x2=\"102.44306355489766\" y1=\"112.91534421192468\" y2=\"0.0\" /><line fill=\"#800080\" stroke=\"#add8e6\" stroke-width=\"1\" x1=\"134.1726380582098\" x2=\"164.62175843388437\" y1=\"112.91799863345214\" y2=\"0.0\" /><line fill=\"#800080\" stroke=\"#d3d3d3\" stroke-width=\"1\" x1=\"135.17197318455544\" x2=\"221.03955150098324\" y1=\"113.33625742458844\" y2=\"11.333626223967357\" /><line fill=\"#800080\" stroke=\"#add8e6\" stroke-width=\"1\" x1=\"135.8378426792489\" x2=\"250.00000000000003\" y1=\"113.8373185590632\" y2=\"60.82382666666666\" /><line fill=\"#800080\" stroke=\"#add8e6\" stroke-width=\"1\" x1=\"136.25265072239947\" x2=\"250.00000000000003\" y1=\"115.00464735146053\" y2=\"115.18581166666668\" /><line fill=\"#800080\" stroke=\"#a020f0\" stroke-width=\"1\" x1=\"133.33333333333334\" x2=\"250.00000000000003\" y1=\"116.66666666666667\" y2=\"233.70554666666672\" /><line fill=\"#800080\" stroke=\"#a020f0\" stroke-width=\"1\" x1=\"133.33333333333334\" x2=\"119.58333333333334\" y1=\"116.66666666666667\" y2=\"130.37293891666667\" /><polygon fill=\"blue\" points=\"134.6606925271999,120.41878544786692 136.24601466858078,119.1713087336586 136.2539779331632,114.17131507502093 134.67263742407354,112.91879495991037 132.0059741394668,112.91454788546642 130.4206519980859,114.16202459967474 130.41268873350347,119.16201825831244 131.99402924259314,120.41453837342297\" stroke=\"blue\" stroke-width=\"1\" /><polygon points=\"-0.8333333333333335,-0.8333333333333335 0,0 0.8333333333333335,-0.8333333333333335 0,0.8333333333333335\" stroke=\"black\" stroke-width=\"1\" transform=\"translate(133.33333333333334,116.66666666666667) rotate(0.09125232892149832)\" /><polygon fill=\"black\" points=\"132.32961841146732,118.99840438778112 132.3317419486893,117.66507274547773 134.3317394121444,117.6682580513107 134.3296158749224,119.00158969361408\" stroke=\"black\" stroke-width=\"1\" /></svg>"
      ],
      "text/plain": [
       "<jyro.simulator.canvas.Canvas at 0x114ba5b00>"
      ]
     },
     "metadata": {},
     "output_type": "display_data"
    }
   ],
   "source": [
    "def my_robot_brain(a_robot):\n",
    "    a_robot.move(random.uniform(-1,1), random.uniform(-1, 1))\n",
    "\n",
    "sim, robot1, robot2 = setup_world(my_robot_brain, my_robot_brain)\n",
    "canvas = Canvas((250, 250))\n",
    "sim.draw(canvas)\n",
    "display(canvas)"
   ]
  },
  {
   "cell_type": "markdown",
   "metadata": {},
   "source": [
    "## We can get the camera's image of the world, which is represented by a 3-dimensional array. It's essentially three stacked matrices, one for each of the Red, Green, and Blue channels of the image the robot sees. \n",
    "\n",
    "###  Since we have red and blue robots, we can just use one of the channels (red) and we should be fine -- though I haven't tested this theory.\n",
    "\n",
    "### Let's look at what the red robot, our predator, sees in the red channel. "
   ]
  },
  {
   "cell_type": "code",
   "execution_count": 333,
   "metadata": {},
   "outputs": [
    {
     "data": {
      "image/png": "[encoded data removed]",
      "text/plain": [
       "<PIL.Image.Image image mode=RGB size=60x40 at 0x1157A9390>"
      ]
     },
     "metadata": {},
     "output_type": "display_data"
    },
    {
     "data": {
      "image/png": "[encoded data removed]",
      "text/plain": [
       "<matplotlib.figure.Figure at 0x1157a9390>"
      ]
     },
     "metadata": {},
     "output_type": "display_data"
    }
   ],
   "source": [
    "sample_img = robot2.device[\"camera\"].getImage()\n",
    "#Let's look at the full image the way the camera is seeing it\n",
    "display(sample_img)\n",
    "\n",
    "#and also the red channel only\n",
    "sample_img = sample_img.resize((20, 10))\n",
    "img_data = np.array(sample_img)\n",
    "pyplot.imshow(img_data[:,:,0], cmap=\"Greys\")\n",
    "pyplot.show()\n"
   ]
  },
  {
   "cell_type": "markdown",
   "metadata": {},
   "source": [
    "## You can tell there is a sky, and a floor that it sees, as well as the red robot just off to the right.\n",
    "\n",
    "\n",
    "# Now lets look at both robot's vision in the red channel.\n",
    "### You can re-run this several times to have the robots randomly move around a bit and see how their images change"
   ]
  },
  {
   "cell_type": "code",
   "execution_count": 340,
   "metadata": {},
   "outputs": [
    {
     "data": {
      "image/svg+xml": [
       "<svg baseProfile=\"full\" height=\"250\" version=\"1.1\" width=\"250\" xmlns=\"http://www.w3.org/2000/svg\" xmlns:ev=\"http://www.w3.org/2001/xml-events\" xmlns:xlink=\"http://www.w3.org/1999/xlink\"><defs /><rect fill=\"#eef3dd\" height=\"250.00000000000003\" stroke=\"#bebebe\" stroke-width=\"1\" width=\"250.00000000000003\" x=\"0.0\" y=\"0.0\" /><line fill=\"#800080\" stroke=\"#add8e6\" stroke-width=\"1\" x1=\"114.09505140739847\" x2=\"0.0\" y1=\"132.75480085561213\" y2=\"193.442815\" /><line fill=\"#800080\" stroke=\"#add8e6\" stroke-width=\"1\" x1=\"113.91504012953075\" x2=\"0.0\" y1=\"131.52910996388508\" y2=\"137.51677999999998\" /><line fill=\"#800080\" stroke=\"#add8e6\" stroke-width=\"1\" x1=\"114.26881956240867\" x2=\"0.0\" y1=\"130.77460048262125\" y2=\"84.627525\" /><line fill=\"#800080\" stroke=\"#d3d3d3\" stroke-width=\"1\" x1=\"114.95602468183928\" x2=\"24.007852079829917\" y1=\"129.93712795474974\" y2=\"32.43734499020722\" /><line fill=\"#800080\" stroke=\"#add8e6\" stroke-width=\"1\" x1=\"116.42748315196054\" x2=\"86.58882035666498\" y1=\"129.1544481041811\" y2=\"0.0\" /><line fill=\"#800080\" stroke=\"#add8e6\" stroke-width=\"1\" x1=\"117.50602819667547\" x2=\"144.9161988857849\" y1=\"129.05270481137023\" y2=\"0.0\" /><line fill=\"#800080\" stroke=\"#add8e6\" stroke-width=\"1\" x1=\"118.32941553989457\" x2=\"131.43973263276723\" y1=\"129.18107041217917\" y2=\"111.77749891699479\" /><line fill=\"#800080\" stroke=\"#d3d3d3\" stroke-width=\"1\" x1=\"119.24515605282292\" x2=\"236.96183366252478\" y1=\"130.0154213786219\" y2=\"67.40103333313114\" /><line fill=\"#800080\" stroke=\"#d3d3d3\" stroke-width=\"1\" x1=\"120.81051575396019\" x2=\"238.52719336366206\" y1=\"132.95833831886443\" y2=\"70.34395027337365\" /><line fill=\"#800080\" stroke=\"#add8e6\" stroke-width=\"1\" x1=\"120.99052703182792\" x2=\"250.00000000000003\" y1=\"134.1840292105915\" y2=\"127.40295666666667\" /><line fill=\"#800080\" stroke=\"#d3d3d3\" stroke-width=\"1\" x1=\"120.63674759895001\" x2=\"244.2689734414748\" y1=\"134.93853869185534\" y2=\"184.8669926134492\" /><line fill=\"#800080\" stroke=\"#d3d3d3\" stroke-width=\"1\" x1=\"119.9495424795194\" x2=\"210.89771508152876\" y1=\"135.77601121972683\" y2=\"233.2757941842693\" /><line fill=\"#800080\" stroke=\"#add8e6\" stroke-width=\"1\" x1=\"118.47808400939812\" x2=\"144.68652627953307\" y1=\"136.55869107029548\" y2=\"250.00000000000003\" /><line fill=\"#800080\" stroke=\"#add8e6\" stroke-width=\"1\" x1=\"117.3995389646832\" x2=\"93.32676416368753\" y1=\"136.66043436310633\" y2=\"250.00000000000003\" /><line fill=\"#800080\" stroke=\"#d3d3d3\" stroke-width=\"1\" x1=\"116.5761516214641\" x2=\"36.350593875451395\" y1=\"136.5320687622974\" y2=\"243.02919389776275\" /><line fill=\"#800080\" stroke=\"#add8e6\" stroke-width=\"1\" x1=\"115.66041110853575\" x2=\"0.0\" y1=\"135.69771779585466\" y2=\"197.21835833333336\" /><line fill=\"#800080\" stroke=\"#a020f0\" stroke-width=\"1\" x1=\"117.45278358067934\" x2=\"0.0\" y1=\"132.85656958723828\" y2=\"96.96748666666669\" /><line fill=\"#800080\" stroke=\"#a020f0\" stroke-width=\"1\" x1=\"117.45278358067934\" x2=\"158.04867982878315\" y1=\"132.85656958723828\" y2=\"0.0\" /><polygon fill=\"red\" points=\"114.51458714080289,130.17193190992032 113.70371148211416,132.0190716205515 116.05175103382005,136.4334470309153 118.03664646836174,136.7934950254661 120.39098002055577,135.54120726455625 121.20185567924452,133.6940675539251 118.85381612753862,129.27969214356125 116.86892069299694,128.9196441490105\" stroke=\"red\" stroke-width=\"1\" /><polygon points=\"-0.8333333333333335,-0.8333333333333335 0,0 0.8333333333333335,-0.8333333333333335 0,0.8333333333333335\" stroke=\"black\" stroke-width=\"1\" transform=\"translate(117.45278358067934,132.85656958723828) rotate(151.9911518415066)\" /><polygon fill=\"black\" points=\"117.23990687195602,130.3269198187273 117.86605075241091,131.50408659482434 116.10030058826538,132.4433024155067 115.4741567078105,131.2661356394097\" stroke=\"black\" stroke-width=\"1\" /><line fill=\"#800080\" stroke=\"#add8e6\" stroke-width=\"1\" x1=\"136.78126699894293\" x2=\"250.00000000000003\" y1=\"109.42078608700722\" y2=\"53.76499333333334\" /><line fill=\"#800080\" stroke=\"#add8e6\" stroke-width=\"1\" x1=\"136.92202044197714\" x2=\"250.00000000000003\" y1=\"110.65160316947569\" y2=\"108.3269916666667\" /><line fill=\"#800080\" stroke=\"#add8e6\" stroke-width=\"1\" x1=\"136.54431196312566\" x2=\"250.00000000000003\" y1=\"111.3944226290001\" y2=\"161.4871066666667\" /><line fill=\"#800080\" stroke=\"#d3d3d3\" stroke-width=\"1\" x1=\"135.83069705272501\" x2=\"223.61690307489658\" y1=\"112.20950843476844\" y2=\"212.56567321805727\" /><line fill=\"#800080\" stroke=\"#d3d3d3\" stroke-width=\"1\" x1=\"134.33498013513338\" x2=\"160.18198226054395\" y1=\"112.94476939538576\" y2=\"243.74886053517696\" /><line fill=\"#800080\" stroke=\"#d3d3d3\" stroke-width=\"1\" x1=\"133.25373474442407\" x2=\"101.39887641616593\" y1=\"113.01199674235825\" y2=\"242.48417822805186\" /><line fill=\"#800080\" stroke=\"#add8e6\" stroke-width=\"1\" x1=\"132.4348696892022\" x2=\"118.99973108405044\" y1=\"112.85738605132767\" y2=\"129.55401649752835\" /><line fill=\"#800080\" stroke=\"#d3d3d3\" stroke-width=\"1\" x1=\"131.54625778737216\" x2=\"11.888904380040355\" y1=\"111.99419944916785\" y2=\"170.81507629855426\" /><line fill=\"#800080\" stroke=\"#d3d3d3\" stroke-width=\"1\" x1=\"130.0757358661375\" x2=\"10.418382458805702\" y1=\"109.00276561398454\" y2=\"167.82364246337093\" /><line fill=\"#800080\" stroke=\"#add8e6\" stroke-width=\"1\" x1=\"129.93498242310326\" x2=\"0.0\" y1=\"107.77194853151607\" y2=\"110.4431\" /><line fill=\"#800080\" stroke=\"#d3d3d3\" stroke-width=\"1\" x1=\"130.31269090195474\" x2=\"8.33902087398024\" y1=\"107.02912907199165\" y2=\"53.17560924566483\" /><line fill=\"#800080\" stroke=\"#d3d3d3\" stroke-width=\"1\" x1=\"131.0263058123554\" x2=\"43.24009979018384\" y1=\"106.21404326622333\" y2=\"5.857878482934442\" /><line fill=\"#800080\" stroke=\"#add8e6\" stroke-width=\"1\" x1=\"132.52202272994705\" x2=\"111.67932320064999\" y1=\"105.478782305606\" y2=\"0.0\" /><line fill=\"#800080\" stroke=\"#add8e6\" stroke-width=\"1\" x1=\"133.60326812065637\" x2=\"159.5383386124115\" y1=\"105.41155495863352\" y2=\"0.0\" /><line fill=\"#800080\" stroke=\"#d3d3d3\" stroke-width=\"1\" x1=\"134.4221331758782\" x2=\"218.00974761698805\" y1=\"105.56616564966409\" y2=\"1.6869642192422893\" /><line fill=\"#800080\" stroke=\"#add8e6\" stroke-width=\"1\" x1=\"135.31074507770828\" x2=\"250.00000000000003\" y1=\"106.4293522518239\" y2=\"50.05068333333333\" /><line fill=\"#800080\" stroke=\"#a020f0\" stroke-width=\"1\" x1=\"133.4285014325402\" x2=\"250.00000000000003\" y1=\"109.21177585049588\" y2=\"148.94659333333334\" /><line fill=\"#800080\" stroke=\"#a020f0\" stroke-width=\"1\" x1=\"133.4285014325402\" x2=\"85.43912188541594\" y1=\"109.21177585049588\" y2=\"250.00000000000003\" /><polygon fill=\"blue\" points=\"136.27941212800252,111.98893014658321 137.1488974792516,110.16864454580302 134.9431145973996,105.68149379302807 132.97073780522453,105.25820401742078 130.5775907370779,106.43462155440854 129.70810538582884,108.25490715518873 131.91388826768082,112.7420579079637 133.8862650598559,113.16534768357097\" stroke=\"blue\" stroke-width=\"1\" /><polygon points=\"-0.8333333333333335,-0.8333333333333335 0,0 0.8333333333333335,-0.8333333333333335 0,0.8333333333333335\" stroke=\"black\" stroke-width=\"1\" transform=\"translate(133.4285014325402,109.21177585049588) rotate(-26.17769856512883)\" /><polygon fill=\"black\" points=\"133.56043662684948,111.74693611149459 132.9722278583556,110.55036257742127 134.7670881594656,109.66804942468049 135.35529692795947,110.8646229587538\" stroke=\"black\" stroke-width=\"1\" /></svg>"
      ],
      "text/plain": [
       "<jyro.simulator.canvas.Canvas at 0x10ec5b7b8>"
      ]
     },
     "metadata": {},
     "output_type": "display_data"
    },
    {
     "data": {
      "image/png": "[encoded data removed]",
      "text/plain": [
       "<matplotlib.figure.Figure at 0x10ec5b940>"
      ]
     },
     "metadata": {},
     "output_type": "display_data"
    },
    {
     "data": {
      "image/png": "[encoded data removed]",
      "text/plain": [
       "<matplotlib.figure.Figure at 0x114622940>"
      ]
     },
     "metadata": {},
     "output_type": "display_data"
    }
   ],
   "source": [
    "from matplotlib import pyplot\n",
    "import time\n",
    "\n",
    "#Let them run randomly around for a bit to see how their vision changes\n",
    "for i in range(10):\n",
    "    sim.step(run_brain=True)\n",
    "    \n",
    "canvas = Canvas((250, 250))\n",
    "sim.draw(canvas)\n",
    "display(canvas)\n",
    "\n",
    "sample_img = robot1.device[\"camera\"].getImage()\n",
    "sample_img = sample_img.resize((20, 10))\n",
    "img_data = np.array(sample_img)\n",
    "pyplot.imshow(img_data[:,:,0], cmap=\"Greys\")\n",
    "pyplot.show()\n",
    "\n",
    "sample_img = robot2.device[\"camera\"].getImage()\n",
    "sample_img = sample_img.resize((20, 10))\n",
    "img_data = np.array(sample_img)\n",
    "pyplot.imshow(img_data[:,:,0], cmap=\"Greys\")\n",
    "pyplot.show()\n"
   ]
  },
  {
   "cell_type": "markdown",
   "metadata": {},
   "source": [
    "### Same neural network code from before"
   ]
  },
  {
   "cell_type": "code",
   "execution_count": 308,
   "metadata": {},
   "outputs": [],
   "source": [
    "class SimpleNeuralNet():\n",
    "    #This is our squashing function\n",
    "    #I changed this to the hyperbolic tangent function that\n",
    "    #returns values in (-1, 1)\n",
    "    def activation_function(self, x):\n",
    "        return np.tanh(x)\n",
    "    \n",
    "    #this should look familiar, just a way to create a copy of \n",
    "    #the network without worying about pesky reference \n",
    "    def deepcopy(self):\n",
    "        new_net = SimpleNeuralNet(self.num_inputs, self.num_outputs, self.layer_node_counts)\n",
    "        new_net.layers = [np.copy(layer) for layer in self.layers]\n",
    "        return new_net\n",
    "    \n",
    "    #this is where the neural network does its computation!\n",
    "    def execute(self, input_vector):\n",
    "        # First we need to make sure we're getting the right\n",
    "        # number of inputs into our neural network.\n",
    "        assert len(input_vector) == self.num_inputs ,\\\n",
    "        \"wrong input vector size\"\n",
    "\n",
    "        # create a temporary variable to hold the values that should go\n",
    "        # into the next layer of the network.\n",
    "        # **at the start, this will just be our input**\n",
    "        next_v = input_vector\n",
    "\n",
    "        # iterate through layers, computing the activation\n",
    "        # of the weighted inputs from the previous layer\n",
    "        for layer in self.layers:\n",
    "            # add a bias to each layer [1]\n",
    "            next_v = np.append(next_v, 1)\n",
    "            \n",
    "            # pump the input vector through the matrix multiplication\n",
    "            # and our activation function\n",
    "            next_v = self.activation_function(np.dot(next_v, layer))\n",
    "            \n",
    "        return next_v\n",
    "        \n",
    "    def __init__(self, num_inputs, num_outputs, layer_node_counts=[]):\n",
    "        self.num_inputs = num_inputs\n",
    "        self.layer_node_counts = layer_node_counts\n",
    "        self.num_outputs = num_outputs\n",
    "        self.layers = []\n",
    "        \n",
    "        last_num_neurons = self.num_inputs\n",
    "        for nc in layer_node_counts + [num_outputs]:\n",
    "            # for now, we'll just use random weights in the range [-5,5]\n",
    "            # +1 handles adding a bias node for each layer of nodes\n",
    "            self.layers.append(np.random.uniform(-5, 5, size=(last_num_neurons+1, nc)))\n",
    "            last_num_neurons = nc\n",
    "    "
   ]
  },
  {
   "cell_type": "markdown",
   "metadata": {},
   "source": [
    "## You've seen most of this code before. This connects the neural networks to the Jyro brain. There is a bit more code here to handle the camera input though. I'll walk through it in code comments!"
   ]
  },
  {
   "cell_type": "code",
   "execution_count": 309,
   "metadata": {},
   "outputs": [],
   "source": [
    "def network_to_brain(simple_net):\n",
    "    \n",
    "    #Define the brain function for jyro\n",
    "    def neural_brain(a_robot):\n",
    "        #sonar_sensors = a_robot[\"sonar\"].getData()\n",
    "        #light_sensors = a_robot[\"light\"].getData()\n",
    "        \n",
    "        #We'll get the raw image from the robot\n",
    "        camera_input = a_robot.device[\"camera\"].getImage()\n",
    "        \n",
    "        #Turn it into a 20x10 matrix, and normalize the values in it between 0 and 1. \n",
    "        normalized_downsampled_img = np.array(camera_input.resize((20, 10)))/255\n",
    "        \n",
    "        #Then we'll get the red channel matrix, and flatten it into a single dimension array\n",
    "        red_channel_flat = list(normalized_downsampled_img[:,:,0].flatten())\n",
    "        \n",
    "        #We're not adding any more inputs, but you should feel free to put more things into \n",
    "        #their brains if you like!\n",
    "        combined_input = red_channel_flat\n",
    "        \n",
    "        network = simple_net\n",
    "\n",
    "        #run the neural network with the combined input values\n",
    "        output = network.execute(combined_input)\n",
    "        \n",
    "        #use the output of the network to move the robot\n",
    "        a_robot.move(output[0], output[1])\n",
    "\n",
    "    return neural_brain"
   ]
  },
  {
   "cell_type": "markdown",
   "metadata": {},
   "source": [
    "# And here are the functions you'll most likely want to play with to get better evolved robots."
   ]
  },
  {
   "cell_type": "code",
   "execution_count": 310,
   "metadata": {},
   "outputs": [],
   "source": [
    "def tournament_selection(population, fitnesses, tournament_size=3):\n",
    "    sample_pop_idxs = np.random.choice(range(len(population)), size=tournament_size)\n",
    "    tourny_winner_idx = np.argmax(np.array(fitnesses)[sample_pop_idxs])\n",
    "    winner_pop_idx = sample_pop_idxs[tourny_winner_idx]\n",
    "\n",
    "    return population[winner_pop_idx]\n",
    "   "
   ]
  },
  {
   "cell_type": "code",
   "execution_count": 341,
   "metadata": {},
   "outputs": [],
   "source": [
    "def mutate_network(simple_net, mutation_rate=1E-3, mutation_effect_size=2):\n",
    "    for layer_to_mut in simple_net.layers:\n",
    "        dims = layer_to_mut.shape\n",
    "        num_mutations = np.random.binomial(dims[0]*dims[1], mutation_rate)\n",
    "        for i in range(num_mutations): \n",
    "            rand_i = np.random.randint(0, dims[0])\n",
    "            rand_j = np.random.randint(0, dims[1])\n",
    "            layer_to_mut[rand_i, rand_j] += np.random.normal(scale=mutation_effect_size)"
   ]
  },
  {
   "cell_type": "markdown",
   "metadata": {},
   "source": [
    "#### What I've decided to call fitness in this function is just the sum of the distances between the predator and prey robot. In the case of the prey, I just call fitness the average distance. For the predator, I subtract this distance from some maximum distance so that the predator is rewarded for staying closer to the prey. I imagine there is a lot of room for improvement here! "
   ]
  },
  {
   "cell_type": "code",
   "execution_count": 312,
   "metadata": {},
   "outputs": [],
   "source": [
    "def measure_predprey_fitness(pred_net, prey_net, iterations=100):\n",
    "    #a number larger than the furthest possible distance between two \n",
    "    #robots in our 15x15 world. \n",
    "    max_dist = 25\n",
    "    \n",
    "    pred_brain = network_to_brain(pred_net)\n",
    "    prey_brain = network_to_brain(prey_net)\n",
    "    \n",
    "    sim, pred_bot,prey_bot = setup_world(pred_brain, prey_brain)\n",
    "    \n",
    "    pred_bot.setPose(7,7,0)\n",
    "    prey_bot.setPose(8, 8, 3.14)\n",
    "    \n",
    "    pred_bot.reset()\n",
    "    prey_bot.reset()\n",
    "    \n",
    "    pred_fitness = 0\n",
    "    prey_fitness = 0\n",
    "    #iterate through the simulation\n",
    "    for i in range(iterations):                    \n",
    "        #move the robot\n",
    "        sim.step(run_brain=True)\n",
    "        pred_pos = pred_bot.getPose()\n",
    "        prey_pos = prey_bot.getPose()\n",
    "        \n",
    "        #and keep track of how far it moved\n",
    "        distance_between = np.linalg.norm(np.array(prey_pos[0:2]) - np.array(pred_pos[0:2]))\n",
    "        prey_fitness += distance_between/iterations\n",
    "        pred_fitness += (max_dist - distance_between)/iterations\n",
    "\n",
    "    return pred_fitness, prey_fitness"
   ]
  },
  {
   "cell_type": "markdown",
   "metadata": {},
   "source": [
    "#### One big difference between this and what we've typically done is that we have more than one population, that's because we're coevolving both the predator and the prey brains! "
   ]
  },
  {
   "cell_type": "code",
   "execution_count": 313,
   "metadata": {},
   "outputs": [],
   "source": [
    "def run_evolution(pop_size, num_generations, fitness_iterations=50):\n",
    "    #Build our random populations of neural networks\n",
    "    pred_population = [SimpleNeuralNet(200,2,[50,10]) for _ in range(pop_size)]\n",
    "    prey_population = [SimpleNeuralNet(200,2,[50,10]) for _ in range(pop_size)]\n",
    "    \n",
    "    evo_fitnesses = {'prey':[], 'pred':[]}\n",
    "\n",
    "    for i in range(num_generations):\n",
    "        #evaluate the fitnesses using 50 timesteps\n",
    "        pred_fitnesses = []\n",
    "        prey_fitnesses = []\n",
    "        \n",
    "        #You might permute the pred/prey brains...\n",
    "        #random.shuffle(pred_population)\n",
    "        #random.shuffle(prey_population)\n",
    "        \n",
    "        for j in range(pop_size):\n",
    "            pred_f, prey_f = measure_predprey_fitness(pred_population[j], prey_population[j], fitness_iterations)\n",
    "            pred_fitnesses.append(pred_f)\n",
    "            prey_fitnesses.append(prey_f)\n",
    "            \n",
    "        #keep track of the mean pop fitnesses\n",
    "        evo_fitnesses['pred'].append(np.mean(pred_fitnesses))\n",
    "        evo_fitnesses['prey'].append(np.mean(prey_fitnesses))\n",
    "\n",
    "        #print the generation and the mean fitness we just stuck on the\n",
    "        #evo_fitnesses list\n",
    "        clear_output(wait=True)\n",
    "        display(i, evo_fitnesses['pred'][-1], evo_fitnesses['prey'][-1])\n",
    "\n",
    "        #########PRED REPRODUCTION#########\n",
    "        #do tournament selection\n",
    "        next_pred_pop = [tournament_selection(pred_population, pred_fitnesses).deepcopy() for _ in range(pop_size)]\n",
    "\n",
    "        #and mutate the new networks\n",
    "        for net in next_pred_pop:\n",
    "            mutate_network(net, mutation_rate=0.01)\n",
    "\n",
    "        pred_population = next_pred_pop\n",
    "        \n",
    "        ##########PREY REPRODUCTION#########\n",
    "        #do tournament selection\n",
    "        next_prey_pop = [tournament_selection(prey_population, prey_fitnesses).deepcopy() for _ in range(pop_size)]\n",
    "\n",
    "        #and mutate the new networks\n",
    "        for net in next_prey_pop:\n",
    "            mutate_network(net, mutation_rate=0.01)\n",
    "\n",
    "        prey_population = next_prey_pop\n",
    "        \n",
    "    return pred_population, prey_population, evo_fitnesses"
   ]
  },
  {
   "cell_type": "markdown",
   "metadata": {},
   "source": [
    "# These functions will work, but are probably not going to evolve the best robots. We can run them and visualize the output though."
   ]
  },
  {
   "cell_type": "code",
   "execution_count": 314,
   "metadata": {
    "scrolled": false
   },
   "outputs": [
    {
     "data": {
      "text/plain": [
       "9"
      ]
     },
     "metadata": {},
     "output_type": "display_data"
    },
    {
     "data": {
      "text/plain": [
       "22.626884846594859"
      ]
     },
     "metadata": {},
     "output_type": "display_data"
    },
    {
     "data": {
      "text/plain": [
       "2.3731151534051391"
      ]
     },
     "metadata": {},
     "output_type": "display_data"
    }
   ],
   "source": [
    "#evolve \n",
    "evolved_pred_pop, evolved_prey_pop, mean_fitnesses = run_evolution(pop_size=10, num_generations=10, fitness_iterations=50)"
   ]
  },
  {
   "cell_type": "markdown",
   "metadata": {},
   "source": [
    "## Right now this just grabs the first predator and prey  brains and simulates them, but you should probably pick the best brains instead! \n",
    "\n",
    "## Also, think about what the best brain in a given generation actually means (hint: each predator is measured against a single prey brain) and maybe re-think the way you're evaluating fitness!"
   ]
  },
  {
   "cell_type": "code",
   "execution_count": 319,
   "metadata": {},
   "outputs": [
    {
     "data": {
      "image/svg+xml": [
       "<svg baseProfile=\"full\" height=\"250\" version=\"1.1\" width=\"250\" xmlns=\"http://www.w3.org/2000/svg\" xmlns:ev=\"http://www.w3.org/2001/xml-events\" xmlns:xlink=\"http://www.w3.org/1999/xlink\"><defs /><rect fill=\"#eef3dd\" height=\"250.00000000000003\" stroke=\"#bebebe\" stroke-width=\"1\" width=\"250.00000000000003\" x=\"0.0\" y=\"0.0\" /><line fill=\"#800080\" stroke=\"#add8e6\" stroke-width=\"1\" x1=\"29.094488769\" x2=\"0.0\" y1=\"58.6190751158\" y2=\"167.631025\" /><line fill=\"#800080\" stroke=\"#add8e6\" stroke-width=\"1\" x1=\"28.0747224913\" x2=\"0.0\" y1=\"57.9156556385\" y2=\"91.440885\" /><line fill=\"#800080\" stroke=\"#add8e6\" stroke-width=\"1\" x1=\"27.7635432094\" x2=\"0.0\" y1=\"57.1426020188\" y2=\"70.1222966667\" /><line fill=\"#800080\" stroke=\"#add8e6\" stroke-width=\"1\" x1=\"27.6188344724\" x2=\"0.0\" y1=\"56.0689770878\" y2=\"56.0962083333\" /><line fill=\"#800080\" stroke=\"#add8e6\" stroke-width=\"1\" x1=\"28.048611965\" x2=\"0.0\" y1=\"54.4586761579\" y2=\"38.3016583333\" /><line fill=\"#800080\" stroke=\"#add8e6\" stroke-width=\"1\" x1=\"28.709053693\" x2=\"0.0\" y1=\"53.5999399732\" y2=\"12.6850866667\" /><line fill=\"#800080\" stroke=\"#add8e6\" stroke-width=\"1\" x1=\"29.364054969\" x2=\"19.9498009348\" y1=\"53.084752849\" y2=\"0.0\" /><line fill=\"#800080\" stroke=\"#add8e6\" stroke-width=\"1\" x1=\"30.5987099931\" x2=\"44.7394892356\" y1=\"52.9830218614\" y2=\"0.0\" /><line fill=\"#800080\" stroke=\"#add8e6\" stroke-width=\"1\" x1=\"33.8193118527\" x2=\"48.1894998539\" y1=\"53.8425768465\" y2=\"0.0\" /><line fill=\"#800080\" stroke=\"#add8e6\" stroke-width=\"1\" x1=\"34.8390781305\" x2=\"80.5170300124\" y1=\"54.5459963238\" y2=\"0.0\" /><line fill=\"#800080\" stroke=\"#add8e6\" stroke-width=\"1\" x1=\"35.1502574124\" x2=\"153.477597346\" y1=\"55.3190499435\" y2=\"0.0\" /><line fill=\"#800080\" stroke=\"#d3d3d3\" stroke-width=\"1\" x1=\"35.2949661493\" x2=\"168.628234667\" y1=\"56.3926748746\" y2=\"56.2612053269\" /><line fill=\"#800080\" stroke=\"#d3d3d3\" stroke-width=\"1\" x1=\"34.8651886567\" x2=\"150.400921136\" y1=\"58.0029758044\" y2=\"124.555754095\" /><line fill=\"#800080\" stroke=\"#d3d3d3\" stroke-width=\"1\" x1=\"34.2047469287\" x2=\"110.789261481\" y1=\"58.8617119892\" y2=\"168.006523632\" /><line fill=\"#800080\" stroke=\"#d3d3d3\" stroke-width=\"1\" x1=\"33.5497456527\" x2=\"56.832296983\" y1=\"59.3768991133\" y2=\"190.661706236\" /><line fill=\"#800080\" stroke=\"#add8e6\" stroke-width=\"1\" x1=\"32.3150906287\" x2=\"0.0\" y1=\"59.478630101\" y2=\"180.55761\" /><line fill=\"#800080\" stroke=\"#a020f0\" stroke-width=\"1\" x1=\"31.4569003109\" x2=\"0.0\" y1=\"56.2308259812\" y2=\"74.433855\" /><line fill=\"#800080\" stroke=\"#a020f0\" stroke-width=\"1\" x1=\"31.4569003109\" x2=\"0.0\" y1=\"56.2308259812\" y2=\"1.86973666667\" /><polygon fill=\"red\" points=\"27.4899012247,56.5520673667 28.2893383041,58.4041863695 33.1202410936,59.6935188473 34.736255409,58.4860660834 35.4238993971,55.9095845956 34.6244623177,54.0574655928 29.7935595281,52.7681331151 28.1775452128,53.975585879\" stroke=\"red\" stroke-width=\"1\" /><polygon points=\"-0.8333333333333335,-0.8333333333333335 0,0 0.8333333333333335,-0.8333333333333335 0,0.8333333333333335\" stroke=\"black\" stroke-width=\"1\" transform=\"translate(31.4569003109,56.2308259812) rotate(104.943505114)\" /><polygon fill=\"black\" points=\"29.4603455046,54.6629569337 30.7485862485,55.0067789277 30.2328532574,56.9391400435 28.9446125136,56.5953180495\" stroke=\"black\" stroke-width=\"1\" /><line fill=\"#800080\" stroke=\"#add8e6\" stroke-width=\"1\" x1=\"122.116955053\" x2=\"250.00000000000003\" y1=\"7.18104652069\" y2=\"16.6399666667\" /><line fill=\"#800080\" stroke=\"#d3d3d3\" stroke-width=\"1\" x1=\"121.615365584\" x2=\"237.970669354\" y1=\"8.31379990393\" y2=\"73.4231007941\" /><line fill=\"#800080\" stroke=\"#d3d3d3\" stroke-width=\"1\" x1=\"120.913633134\" x2=\"198.850971438\" y1=\"8.76326181841\" y2=\"116.946204447\" /><line fill=\"#800080\" stroke=\"#d3d3d3\" stroke-width=\"1\" x1=\"119.885622434\" x2=\"144.800751876\" y1=\"9.10502944653\" y2=\"140.089815214\" /><line fill=\"#800080\" stroke=\"#d3d3d3\" stroke-width=\"1\" x1=\"118.223496216\" x2=\"74.3082383675\" y1=\"8.98208956926\" y2=\"134.875806275\" /><line fill=\"#800080\" stroke=\"#d3d3d3\" stroke-width=\"1\" x1=\"117.256955454\" x2=\"24.2512315787\" y1=\"8.49279408841\" y2=\"104.031859942\" /><line fill=\"#800080\" stroke=\"#add8e6\" stroke-width=\"1\" x1=\"116.62898693\" x2=\"0.0\" y1=\"7.94498027212\" y2=\"52.1778416667\" /><line fill=\"#800080\" stroke=\"#add8e6\" stroke-width=\"1\" x1=\"116.29951329\" x2=\"25.0303970956\" y1=\"6.75075695024\" y2=\"0.0\" /><line fill=\"#800080\" stroke=\"#add8e6\" stroke-width=\"1\" x1=\"116.545393045\" x2=\"70.2196116923\" y1=\"3.42650451437\" y2=\"0.0\" /><line fill=\"#800080\" stroke=\"#add8e6\" stroke-width=\"1\" x1=\"117.046982513\" x2=\"112.947873418\" y1=\"2.29375113113\" y2=\"0.0\" /><line fill=\"#800080\" stroke=\"#add8e6\" stroke-width=\"1\" x1=\"117.748714963\" x2=\"116.420048308\" y1=\"1.84428921666\" y2=\"0.0\" /><line fill=\"#800080\" stroke=\"#add8e6\" stroke-width=\"1\" x1=\"118.776725664\" x2=\"118.490924574\" y1=\"1.50252158854\" y2=\"0.0\" /><line fill=\"#800080\" stroke=\"#add8e6\" stroke-width=\"1\" x1=\"120.438851881\" x2=\"121.005858451\" y1=\"1.62546146581\" y2=\"0.0\" /><line fill=\"#800080\" stroke=\"#add8e6\" stroke-width=\"1\" x1=\"121.405392643\" x2=\"123.464074786\" y1=\"2.11475694666\" y2=\"0.0\" /><line fill=\"#800080\" stroke=\"#add8e6\" stroke-width=\"1\" x1=\"122.033361167\" x2=\"129.053772865\" y1=\"2.66257076295\" y2=\"0.0\" /><line fill=\"#800080\" stroke=\"#add8e6\" stroke-width=\"1\" x1=\"122.362834807\" x2=\"250.00000000000003\" y1=\"3.85679408482\" y2=\"13.2975266667\" /><line fill=\"#800080\" stroke=\"#a020f0\" stroke-width=\"1\" x1=\"119.331174049\" x2=\"250.00000000000003\" y1=\"5.30377551753\" y2=\"156.846501667\" /><line fill=\"#800080\" stroke=\"#a020f0\" stroke-width=\"1\" x1=\"119.331174049\" x2=\"0.0\" y1=\"5.30377551753\" y2=\"108.19795\" /><polygon fill=\"white\" points=\"120.384260299,9.14191140971 122.055485114,8.01210962966 122.424304746,3.02573097585 120.937489747,1.66234342899 118.278087798,1.46563962536 116.606862983,2.5954414054 116.238043351,7.58182005921 117.72485835,8.94520760607\" stroke=\"black\" stroke-width=\"1\" /><polygon points=\"-0.8333333333333335,-0.8333333333333335 0,0 0.8333333333333335,-0.8333333333333335 0,0.8333333333333335\" stroke=\"black\" stroke-width=\"1\" transform=\"translate(119.331174049,5.30377551753) rotate(4.23020376369)\" /><polygon fill=\"black\" points=\"118.16178249,7.55698829628 118.260134392,6.22728732193 120.254685853,6.37481517466 120.156333951,7.70451614901\" stroke=\"black\" stroke-width=\"1\" /></svg>"
      ],
      "text/plain": [
       "<jyro.simulator.canvas.Canvas at 0x10eabddd8>"
      ]
     },
     "metadata": {},
     "output_type": "display_data"
    }
   ],
   "source": [
    "#visualize\n",
    "sim, robot1,robot2 = setup_world(network_to_brain(evolved_pred_pop[0]), network_to_brain(evolved_prey_pop[0]))\n",
    "canvas = Canvas((250, 250))\n",
    "\n",
    "for i in range(100):\n",
    "    sim.step(run_brain=True)\n",
    "    sim.draw(canvas)\n",
    "    clear_output(wait=True)\n",
    "    display(canvas)\n",
    "    time.sleep(.085)"
   ]
  },
  {
   "cell_type": "markdown",
   "metadata": {},
   "source": [
    "# To save your robot brain, we'll use the python `pickle` module. \n",
    "## This lets us pass a copy of our brain, and an opened file to save the object. "
   ]
  },
  {
   "cell_type": "code",
   "execution_count": 274,
   "metadata": {},
   "outputs": [],
   "source": [
    "import pickle\n",
    "\n",
    "#copy the network when we pickle it\n",
    "pickle.dump(evolved_pred_pop[0].deepcopy(), open('my_pred_robot_brain.pkl', 'wb'))\n",
    "pickle.dump(evolved_prey_pop[0].deepcopy(), open('my_prey_robot_brain.pkl', 'wb'))"
   ]
  },
  {
   "cell_type": "markdown",
   "metadata": {},
   "source": [
    "## Then, we can use `pickle.load` to read the file, and reconstruct the network object we need to control the robot! "
   ]
  },
  {
   "cell_type": "code",
   "execution_count": 276,
   "metadata": {},
   "outputs": [
    {
     "name": "stdout",
     "output_type": "stream",
     "text": [
      "<__main__.SimpleNeuralNet object at 0x11553a9b0> <__main__.SimpleNeuralNet object at 0x11553a240>\n"
     ]
    }
   ],
   "source": [
    "loaded_pred_brain = pickle.load(open('my_pred_robot_brain.pkl', 'rb'))\n",
    "loaded_prey_brain = pickle.load(open('my_prey_robot_brain.pkl', 'rb'))\n",
    "\n",
    "print(loaded_pred_brain, loaded_prey_brain)"
   ]
  },
  {
   "cell_type": "markdown",
   "metadata": {},
   "source": [
    "## And now we can put that loaded in brain into a robot and run it!"
   ]
  },
  {
   "cell_type": "code",
   "execution_count": 278,
   "metadata": {},
   "outputs": [
    {
     "data": {
      "image/svg+xml": [
       "<svg baseProfile=\"full\" height=\"250\" version=\"1.1\" width=\"250\" xmlns=\"http://www.w3.org/2000/svg\" xmlns:ev=\"http://www.w3.org/2001/xml-events\" xmlns:xlink=\"http://www.w3.org/1999/xlink\"><defs /><rect fill=\"#eef3dd\" height=\"250.00000000000003\" stroke=\"#bebebe\" stroke-width=\"1\" width=\"250.00000000000003\" x=\"0.0\" y=\"0.0\" /><line fill=\"#800080\" stroke=\"#add8e6\" stroke-width=\"1\" x1=\"141.739596467\" x2=\"157.794971253\" y1=\"109.171910552\" y2=\"0.0\" /><line fill=\"#800080\" stroke=\"#add8e6\" stroke-width=\"1\" x1=\"142.833222741\" x2=\"215.10982141\" y1=\"109.753893194\" y2=\"0.0\" /><line fill=\"#800080\" stroke=\"#add8e6\" stroke-width=\"1\" x1=\"143.230901842\" x2=\"250.00000000000003\" y1=\"110.486215376\" y2=\"44.7146666667\" /><line fill=\"#800080\" stroke=\"#add8e6\" stroke-width=\"1\" x1=\"143.497634411\" x2=\"250.00000000000003\" y1=\"111.536198636\" y2=\"99.149845\" /><line fill=\"#800080\" stroke=\"#add8e6\" stroke-width=\"1\" x1=\"143.255134354\" x2=\"250.00000000000003\" y1=\"113.185129048\" y2=\"159.303095\" /><line fill=\"#800080\" stroke=\"#d3d3d3\" stroke-width=\"1\" x1=\"142.697401718\" x2=\"231.27963747\" y1=\"114.11386228\" y2=\"213.768090926\" /><line fill=\"#800080\" stroke=\"#d3d3d3\" stroke-width=\"1\" x1=\"142.105722572\" x2=\"180.272795741\" y1=\"114.700684428\" y2=\"242.454558355\" /><line fill=\"#800080\" stroke=\"#d3d3d3\" stroke-width=\"1\" x1=\"140.89084627\" x2=\"121.490841762\" y1=\"114.943166991\" y2=\"246.857599874\" /><line fill=\"#800080\" stroke=\"#d3d3d3\" stroke-width=\"1\" x1=\"137.592985448\" x2=\"118.19298094\" y1=\"114.458166878\" y2=\"246.372599761\" /><line fill=\"#800080\" stroke=\"#d3d3d3\" stroke-width=\"1\" x1=\"136.499359174\" x2=\"63.1675356968\" y1=\"113.876184236\" y2=\"225.232465798\" /><line fill=\"#800080\" stroke=\"#d3d3d3\" stroke-width=\"1\" x1=\"136.101680074\" x2=\"22.5792792708\" y1=\"113.143862055\" y2=\"183.075559401\" /><line fill=\"#800080\" stroke=\"#d3d3d3\" stroke-width=\"1\" x1=\"135.834947505\" x2=\"3.39429928084\" y1=\"112.093878794\" y2=\"127.496880964\" /><line fill=\"#800080\" stroke=\"#d3d3d3\" stroke-width=\"1\" x1=\"136.077447561\" x2=\"13.6789806206\" y1=\"110.444948383\" y2=\"57.5640154447\" /><line fill=\"#800080\" stroke=\"#d3d3d3\" stroke-width=\"1\" x1=\"136.635180198\" x2=\"48.0529444457\" y1=\"109.51621515\" y2=\"9.8619865046\" /><line fill=\"#800080\" stroke=\"#add8e6\" stroke-width=\"1\" x1=\"137.226859343\" x2=\"104.683688854\" y1=\"108.929393003\" y2=\"0.0\" /><line fill=\"#800080\" stroke=\"#add8e6\" stroke-width=\"1\" x1=\"138.441735645\" x2=\"154.425783064\" y1=\"108.68691044\" y2=\"0.0\" /><line fill=\"#800080\" stroke=\"#a020f0\" stroke-width=\"1\" x1=\"139.666290958\" x2=\"250.00000000000003\" y1=\"111.815038715\" y2=\"84.031995\" /><line fill=\"#800080\" stroke=\"#a020f0\" stroke-width=\"1\" x1=\"139.666290958\" x2=\"250.00000000000003\" y1=\"111.815038715\" y2=\"177.760128333\" /><polygon fill=\"red\" points=\"143.570384428,111.041519513 142.564061673,109.29316058 137.61727044,108.565660411 136.150197578,109.95026926 135.762197488,112.588557917 136.768520242,114.33691685 141.715311476,115.064417019 143.182384337,113.679808171\" stroke=\"red\" stroke-width=\"1\" /><polygon points=\"-0.8333333333333335,-0.8333333333333335 0,0 0.8333333333333335,-0.8333333333333335 0,0.8333333333333335\" stroke=\"black\" stroke-width=\"1\" transform=\"translate(139.666290958,111.815038715) rotate(-81.6337638954)\" /><polygon fill=\"black\" points=\"141.829293499,113.143897041 140.51014917,112.949896996 140.801149238,110.971180502 142.120293567,111.165180547\" stroke=\"black\" stroke-width=\"1\" /><line fill=\"#800080\" stroke=\"#add8e6\" stroke-width=\"1\" x1=\"8.0838545716\" x2=\"21.9892207377\" y1=\"29.0187942654\" y2=\"0.0\" /><line fill=\"#800080\" stroke=\"#add8e6\" stroke-width=\"1\" x1=\"8.95591021259\" x2=\"45.3591163629\" y1=\"29.8987040229\" y2=\"0.0\" /><line fill=\"#800080\" stroke=\"#add8e6\" stroke-width=\"1\" x1=\"9.11872604686\" x2=\"128.775871488\" y1=\"30.7159772015\" y2=\"0.0\" /><line fill=\"#800080\" stroke=\"#d3d3d3\" stroke-width=\"1\" x1=\"9.06234658086\" x2=\"140.119094594\" y1=\"31.7978424736\" y2=\"56.3316268962\" /><line fill=\"#800080\" stroke=\"#d3d3d3\" stroke-width=\"1\" x1=\"8.3421241013\" x2=\"109.573705006\" y1=\"33.3008585606\" y2=\"120.076113128\" /><line fill=\"#800080\" stroke=\"#d3d3d3\" stroke-width=\"1\" x1=\"7.53423659181\" x2=\"62.6083994128\" y1=\"34.0226125929\" y2=\"155.450016285\" /><line fill=\"#800080\" stroke=\"#d3d3d3\" stroke-width=\"1\" x1=\"6.7952427739\" x2=\"5.39194712717\" y1=\"34.4077522838\" y2=\"167.733700768\" /><line fill=\"#800080\" stroke=\"#add8e6\" stroke-width=\"1\" x1=\"5.56307589312\" x2=\"0.0\" y1=\"34.2793505698\" y2=\"45.88881\" /><line fill=\"#800080\" stroke=\"#add8e6\" stroke-width=\"1\" x1=\"2.55704371917\" x2=\"0.0\" y1=\"32.8389056107\" y2=\"38.1751416667\" /><line fill=\"#800080\" stroke=\"#add8e6\" stroke-width=\"1\" x1=\"1.68498807818\" x2=\"0.0\" y1=\"31.9589958533\" y2=\"33.3429116667\" /><line fill=\"#800080\" stroke=\"#add8e6\" stroke-width=\"1\" x1=\"1.52217224392\" x2=\"0.0\" y1=\"31.1417226746\" y2=\"31.532465\" /><line fill=\"#800080\" stroke=\"#add8e6\" stroke-width=\"1\" x1=\"1.57855170991\" x2=\"0.0\" y1=\"30.0598574025\" y2=\"29.7643516667\" /><line fill=\"#800080\" stroke=\"#add8e6\" stroke-width=\"1\" x1=\"2.29877418948\" x2=\"0.0\" y1=\"28.5568413156\" y2=\"26.5863416667\" /><line fill=\"#800080\" stroke=\"#add8e6\" stroke-width=\"1\" x1=\"3.10666169896\" x2=\"0.0\" y1=\"27.8350872833\" y2=\"20.985525\" /><line fill=\"#800080\" stroke=\"#add8e6\" stroke-width=\"1\" x1=\"3.84565551688\" x2=\"4.13457416103\" y1=\"27.4499475923\" y2=\"0.0\" /><line fill=\"#800080\" stroke=\"#add8e6\" stroke-width=\"1\" x1=\"5.07782239765\" x2=\"18.2929480368\" y1=\"27.5783493063\" y2=\"0.0\" /><line fill=\"#800080\" stroke=\"#a020f0\" stroke-width=\"1\" x1=\"5.32044914539\" x2=\"50.4960272105\" y1=\"30.9288499381\" y2=\"0.0\" /><line fill=\"#800080\" stroke=\"#a020f0\" stroke-width=\"1\" x1=\"5.32044914539\" x2=\"22.1653892673\" y1=\"30.9288499381\" y2=\"250.0\" /><polygon fill=\"white\" points=\"9.27841332473,31.3469376475 8.83536261509,29.3789055052 4.32631435417,27.2182380665 2.51484093335,28.1059364895 1.36248496604,30.5107622286 1.80553567568,32.4787943709 6.31458393661,34.6394618096 8.12605735743,33.7517633867\" stroke=\"black\" stroke-width=\"1\" /><polygon points=\"-0.8333333333333335,-0.8333333333333335 0,0 0.8333333333333335,-0.8333333333333335 0,0.8333333333333335\" stroke=\"black\" stroke-width=\"1\" transform=\"translate(5.32044914539,30.9288499381) rotate(-64.3969669819)\" /><polygon fill=\"black\" points=\"6.99253817941,32.8389710616 5.79012530983,32.262793078 6.65439228531,30.4591737736 7.85680515489,31.0353517573\" stroke=\"black\" stroke-width=\"1\" /></svg>"
      ],
      "text/plain": [
       "<jyro.simulator.canvas.Canvas at 0x1154f4a58>"
      ]
     },
     "metadata": {},
     "output_type": "display_data"
    }
   ],
   "source": [
    "sim, robot1, robot2 = setup_world(network_to_brain(loaded_pred_brain), \n",
    "                                  network_to_brain(loaded_prey_brain))\n",
    "\n",
    "canvas = Canvas((250, 250))\n",
    "for i in range(100):\n",
    "    sim.step(run_brain=True)\n",
    "    sim.draw(canvas)\n",
    "    clear_output(wait=True)\n",
    "    display(canvas)\n",
    "    time.sleep(.085)"
   ]
  },
  {
   "cell_type": "markdown",
   "metadata": {},
   "source": [
    "# Homework!\n",
    "## You should turn in your groups worksheet that evolves your predator and prey robots, and your best brains pickled up so I can run what you got! Also make a note about your group members contributions, and your own contribution in the notebook you hand in."
   ]
  },
  {
   "cell_type": "code",
   "execution_count": 124,
   "metadata": {},
   "outputs": [],
   "source": []
  }
 ],
 "metadata": {
  "kernelspec": {
   "display_name": "Python 3",
   "language": "python",
   "name": "python3"
  },
  "language_info": {
   "codemirror_mode": {
    "name": "ipython",
    "version": 3
   },
   "file_extension": ".py",
   "mimetype": "text/x-python",
   "name": "python",
   "nbconvert_exporter": "python",
   "pygments_lexer": "ipython3",
   "version": "3.6.7"
  }
 },
 "nbformat": 4,
 "nbformat_minor": 2
}
